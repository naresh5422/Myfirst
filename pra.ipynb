{
 "cells": [
  {
   "cell_type": "code",
   "execution_count": 1,
   "id": "756ba854",
   "metadata": {},
   "outputs": [],
   "source": [
    "import secrets\n",
    "import string"
   ]
  },
  {
   "cell_type": "code",
   "execution_count": 2,
   "id": "249da44e",
   "metadata": {},
   "outputs": [
    {
     "data": {
      "text/plain": [
       "'abcdefghijklmnopqrstuvwxyzABCDEFGHIJKLMNOPQRSTUVWXYZ0123456789'"
      ]
     },
     "execution_count": 2,
     "metadata": {},
     "output_type": "execute_result"
    }
   ],
   "source": [
    "alpha = string.ascii_letters + string.digits\n",
    "alpha"
   ]
  },
  {
   "cell_type": "code",
   "execution_count": 24,
   "id": "c876ad4a",
   "metadata": {},
   "outputs": [
    {
     "data": {
      "text/plain": [
       "'Tp2MAPSysZ'"
      ]
     },
     "execution_count": 24,
     "metadata": {},
     "output_type": "execute_result"
    }
   ],
   "source": [
    "pwd = ''.join(secrets.choice(alpha) for i in range(10))\n",
    "pwd"
   ]
  },
  {
   "cell_type": "code",
   "execution_count": null,
   "id": "7797913b",
   "metadata": {},
   "outputs": [],
   "source": [
    "while True:\n",
    "    pwd = ''.join(secrets.choice(alpha) for i in range(4))\n",
    "    if any(i.islower() for i in pwd) and any(i.isupper() for i in pwd) and sum(i.isdigit() for i in pwd) >= 3:\n",
    "        print(pwd)\n",
    "        break"
   ]
  },
  {
   "cell_type": "code",
   "execution_count": null,
   "id": "c2b68fe7",
   "metadata": {},
   "outputs": [],
   "source": []
  },
  {
   "cell_type": "code",
   "execution_count": 1,
   "id": "b87123e4",
   "metadata": {},
   "outputs": [],
   "source": [
    "class parent:\n",
    "    def __init__(self):\n",
    "        print(\"Bird is Ready\")\n",
    "        \n",
    "    def WhoisThis(self):\n",
    "        print(\"Bird\")\n",
    "        \n",
    "    def Swim(self):\n",
    "        print(\"Swimming Fast\")"
   ]
  },
  {
   "cell_type": "code",
   "execution_count": 6,
   "id": "3512813c",
   "metadata": {},
   "outputs": [],
   "source": [
    "class Child(parent):\n",
    "    def __init__(self):\n",
    "        super().__init__()\n",
    "        print(\"Peguine is Ready\")\n",
    "        \n",
    "    def WhoisThis(self):\n",
    "        print(\"Pen\")\n",
    "    "
   ]
  },
  {
   "cell_type": "code",
   "execution_count": null,
   "id": "642e1bb1",
   "metadata": {},
   "outputs": [],
   "source": []
  },
  {
   "cell_type": "code",
   "execution_count": null,
   "id": "43b05571",
   "metadata": {},
   "outputs": [],
   "source": []
  },
  {
   "cell_type": "code",
   "execution_count": null,
   "id": "d3238fe7",
   "metadata": {},
   "outputs": [],
   "source": []
  },
  {
   "cell_type": "code",
   "execution_count": null,
   "id": "e8c64ec7",
   "metadata": {},
   "outputs": [],
   "source": []
  },
  {
   "cell_type": "code",
   "execution_count": null,
   "id": "cf83e28c",
   "metadata": {},
   "outputs": [],
   "source": []
  },
  {
   "cell_type": "code",
   "execution_count": null,
   "id": "1c043bab",
   "metadata": {},
   "outputs": [],
   "source": []
  },
  {
   "cell_type": "code",
   "execution_count": null,
   "id": "865a3d0b",
   "metadata": {},
   "outputs": [],
   "source": []
  },
  {
   "cell_type": "code",
   "execution_count": null,
   "id": "e67c7b54",
   "metadata": {},
   "outputs": [],
   "source": []
  },
  {
   "cell_type": "code",
   "execution_count": 7,
   "id": "b03dfefc",
   "metadata": {},
   "outputs": [],
   "source": [
    "li = [1,2,3,4,5,6,7]"
   ]
  },
  {
   "cell_type": "code",
   "execution_count": 10,
   "id": "6d36f2bd",
   "metadata": {},
   "outputs": [],
   "source": [
    "t = tuple(li)"
   ]
  },
  {
   "cell_type": "code",
   "execution_count": 14,
   "id": "0f4e2c40",
   "metadata": {},
   "outputs": [],
   "source": [
    "s = set(li)"
   ]
  },
  {
   "cell_type": "code",
   "execution_count": 12,
   "id": "1f77a1ee",
   "metadata": {},
   "outputs": [
    {
     "data": {
      "text/plain": [
       "[1, 2, 3, 4, 5, 6, 7]"
      ]
     },
     "execution_count": 12,
     "metadata": {},
     "output_type": "execute_result"
    }
   ],
   "source": [
    "list(t)"
   ]
  },
  {
   "cell_type": "code",
   "execution_count": 13,
   "id": "9122760d",
   "metadata": {},
   "outputs": [
    {
     "data": {
      "text/plain": [
       "{1, 2, 3, 4, 5, 6, 7}"
      ]
     },
     "execution_count": 13,
     "metadata": {},
     "output_type": "execute_result"
    }
   ],
   "source": [
    "set(t)"
   ]
  },
  {
   "cell_type": "code",
   "execution_count": 15,
   "id": "9ec3ec21",
   "metadata": {},
   "outputs": [
    {
     "data": {
      "text/plain": [
       "[1, 2, 3, 4, 5, 6, 7]"
      ]
     },
     "execution_count": 15,
     "metadata": {},
     "output_type": "execute_result"
    }
   ],
   "source": [
    "list(s)"
   ]
  },
  {
   "cell_type": "code",
   "execution_count": 16,
   "id": "e5068432",
   "metadata": {},
   "outputs": [
    {
     "data": {
      "text/plain": [
       "(1, 2, 3, 4, 5, 6, 7)"
      ]
     },
     "execution_count": 16,
     "metadata": {},
     "output_type": "execute_result"
    }
   ],
   "source": [
    "tuple(s)"
   ]
  },
  {
   "cell_type": "code",
   "execution_count": 22,
   "id": "66d3fb22",
   "metadata": {},
   "outputs": [
    {
     "data": {
      "text/plain": [
       "types.GenericAlias"
      ]
     },
     "execution_count": 22,
     "metadata": {},
     "output_type": "execute_result"
    }
   ],
   "source": [
    "type(dict[s:t])"
   ]
  },
  {
   "cell_type": "code",
   "execution_count": 34,
   "id": "218c6b99",
   "metadata": {},
   "outputs": [
    {
     "data": {
      "text/plain": [
       "{1: 1, 2: 8, 3: 27, 4: 64, 5: 125, 6: 216, 7: 343}"
      ]
     },
     "execution_count": 34,
     "metadata": {},
     "output_type": "execute_result"
    }
   ],
   "source": [
    "{i:i**3 for i in li}\n",
    "    "
   ]
  },
  {
   "cell_type": "code",
   "execution_count": null,
   "id": "d8a33752",
   "metadata": {},
   "outputs": [],
   "source": []
  },
  {
   "cell_type": "code",
   "execution_count": null,
   "id": "ffd6fc7f",
   "metadata": {},
   "outputs": [],
   "source": []
  },
  {
   "cell_type": "code",
   "execution_count": null,
   "id": "193c0b82",
   "metadata": {},
   "outputs": [],
   "source": []
  },
  {
   "cell_type": "code",
   "execution_count": null,
   "id": "6295ce3a",
   "metadata": {},
   "outputs": [],
   "source": []
  },
  {
   "cell_type": "code",
   "execution_count": null,
   "id": "514e232d",
   "metadata": {},
   "outputs": [],
   "source": []
  },
  {
   "cell_type": "code",
   "execution_count": null,
   "id": "b77b802c",
   "metadata": {},
   "outputs": [],
   "source": []
  },
  {
   "cell_type": "code",
   "execution_count": null,
   "id": "a87a24cd",
   "metadata": {},
   "outputs": [],
   "source": []
  },
  {
   "cell_type": "code",
   "execution_count": null,
   "id": "2d8da908",
   "metadata": {},
   "outputs": [],
   "source": []
  },
  {
   "cell_type": "code",
   "execution_count": null,
   "id": "4c01872e",
   "metadata": {},
   "outputs": [],
   "source": []
  },
  {
   "cell_type": "code",
   "execution_count": null,
   "id": "bfd15e2c",
   "metadata": {},
   "outputs": [],
   "source": []
  },
  {
   "cell_type": "code",
   "execution_count": null,
   "id": "96d0c8ee",
   "metadata": {},
   "outputs": [],
   "source": []
  },
  {
   "cell_type": "code",
   "execution_count": null,
   "id": "357a4a80",
   "metadata": {},
   "outputs": [],
   "source": []
  },
  {
   "cell_type": "code",
   "execution_count": null,
   "id": "e4d53f09",
   "metadata": {},
   "outputs": [],
   "source": []
  },
  {
   "cell_type": "code",
   "execution_count": null,
   "id": "9e96c4b7",
   "metadata": {},
   "outputs": [],
   "source": []
  },
  {
   "cell_type": "code",
   "execution_count": null,
   "id": "7f7e782c",
   "metadata": {},
   "outputs": [],
   "source": []
  },
  {
   "cell_type": "code",
   "execution_count": null,
   "id": "8d98e322",
   "metadata": {},
   "outputs": [],
   "source": []
  },
  {
   "cell_type": "code",
   "execution_count": null,
   "id": "dff16e8c",
   "metadata": {},
   "outputs": [],
   "source": []
  },
  {
   "cell_type": "code",
   "execution_count": null,
   "id": "3164d48a",
   "metadata": {},
   "outputs": [],
   "source": []
  },
  {
   "cell_type": "code",
   "execution_count": 2,
   "id": "cdb35540",
   "metadata": {},
   "outputs": [
    {
     "name": "stdout",
     "output_type": "stream",
     "text": [
      "Bird is Ready\n"
     ]
    }
   ],
   "source": [
    "p = parent()"
   ]
  },
  {
   "cell_type": "code",
   "execution_count": 4,
   "id": "5476db4b",
   "metadata": {},
   "outputs": [
    {
     "name": "stdout",
     "output_type": "stream",
     "text": [
      "Bird\n"
     ]
    }
   ],
   "source": [
    "p.WhoisThis()"
   ]
  },
  {
   "cell_type": "code",
   "execution_count": 5,
   "id": "ce147d13",
   "metadata": {},
   "outputs": [
    {
     "name": "stdout",
     "output_type": "stream",
     "text": [
      "Swimming Fast\n"
     ]
    }
   ],
   "source": [
    "p.Swim()"
   ]
  },
  {
   "cell_type": "code",
   "execution_count": null,
   "id": "cb57ed3b",
   "metadata": {},
   "outputs": [],
   "source": []
  },
  {
   "cell_type": "code",
   "execution_count": null,
   "id": "52493e1a",
   "metadata": {},
   "outputs": [],
   "source": []
  },
  {
   "cell_type": "code",
   "execution_count": null,
   "id": "bfe97778",
   "metadata": {},
   "outputs": [],
   "source": []
  },
  {
   "cell_type": "code",
   "execution_count": null,
   "id": "2878623d",
   "metadata": {},
   "outputs": [],
   "source": []
  },
  {
   "cell_type": "code",
   "execution_count": null,
   "id": "9b3b2429",
   "metadata": {},
   "outputs": [],
   "source": []
  },
  {
   "cell_type": "code",
   "execution_count": null,
   "id": "8665b7a5",
   "metadata": {},
   "outputs": [],
   "source": []
  },
  {
   "cell_type": "code",
   "execution_count": null,
   "id": "d6a3476b",
   "metadata": {},
   "outputs": [],
   "source": []
  },
  {
   "cell_type": "code",
   "execution_count": null,
   "id": "d1a3ce24",
   "metadata": {},
   "outputs": [],
   "source": []
  },
  {
   "cell_type": "code",
   "execution_count": null,
   "id": "38e0c54b",
   "metadata": {},
   "outputs": [],
   "source": []
  },
  {
   "cell_type": "code",
   "execution_count": null,
   "id": "c3b033c9",
   "metadata": {},
   "outputs": [],
   "source": []
  },
  {
   "cell_type": "code",
   "execution_count": null,
   "id": "b3f1e4f0",
   "metadata": {},
   "outputs": [],
   "source": []
  },
  {
   "cell_type": "code",
   "execution_count": 1,
   "id": "7bd56590",
   "metadata": {},
   "outputs": [],
   "source": [
    "a = 1,2,3,4"
   ]
  },
  {
   "cell_type": "code",
   "execution_count": 2,
   "id": "dd715de6",
   "metadata": {},
   "outputs": [
    {
     "data": {
      "text/plain": [
       "(1, 2, 3, 4)"
      ]
     },
     "execution_count": 2,
     "metadata": {},
     "output_type": "execute_result"
    }
   ],
   "source": [
    "a"
   ]
  },
  {
   "cell_type": "code",
   "execution_count": 3,
   "id": "50d5450a",
   "metadata": {},
   "outputs": [],
   "source": [
    "b = a"
   ]
  },
  {
   "cell_type": "code",
   "execution_count": 4,
   "id": "51725cdf",
   "metadata": {},
   "outputs": [
    {
     "data": {
      "text/plain": [
       "(1, 2, 3, 4)"
      ]
     },
     "execution_count": 4,
     "metadata": {},
     "output_type": "execute_result"
    }
   ],
   "source": [
    "b"
   ]
  },
  {
   "cell_type": "code",
   "execution_count": 5,
   "id": "64217571",
   "metadata": {},
   "outputs": [
    {
     "data": {
      "text/plain": [
       "2"
      ]
     },
     "execution_count": 5,
     "metadata": {},
     "output_type": "execute_result"
    }
   ],
   "source": [
    "a[1]"
   ]
  },
  {
   "cell_type": "code",
   "execution_count": 6,
   "id": "bab59a34",
   "metadata": {},
   "outputs": [
    {
     "data": {
      "text/plain": [
       "2"
      ]
     },
     "execution_count": 6,
     "metadata": {},
     "output_type": "execute_result"
    }
   ],
   "source": [
    "b[1]"
   ]
  },
  {
   "cell_type": "code",
   "execution_count": 8,
   "id": "051c2de0",
   "metadata": {},
   "outputs": [
    {
     "data": {
      "text/plain": [
       "False"
      ]
     },
     "execution_count": 8,
     "metadata": {},
     "output_type": "execute_result"
    }
   ],
   "source": [
    "a[1] == b[3]"
   ]
  },
  {
   "cell_type": "code",
   "execution_count": 9,
   "id": "053111cc",
   "metadata": {},
   "outputs": [],
   "source": [
    "c = list(a)"
   ]
  },
  {
   "cell_type": "code",
   "execution_count": 10,
   "id": "5e8a836b",
   "metadata": {},
   "outputs": [
    {
     "data": {
      "text/plain": [
       "[1, 2, 3, 4]"
      ]
     },
     "execution_count": 10,
     "metadata": {},
     "output_type": "execute_result"
    }
   ],
   "source": [
    "c"
   ]
  },
  {
   "cell_type": "code",
   "execution_count": 11,
   "id": "59a33761",
   "metadata": {},
   "outputs": [],
   "source": [
    "d = c"
   ]
  },
  {
   "cell_type": "code",
   "execution_count": 12,
   "id": "03463647",
   "metadata": {},
   "outputs": [
    {
     "data": {
      "text/plain": [
       "[1, 2, 3, 4]"
      ]
     },
     "execution_count": 12,
     "metadata": {},
     "output_type": "execute_result"
    }
   ],
   "source": [
    "d"
   ]
  },
  {
   "cell_type": "code",
   "execution_count": 13,
   "id": "97de9bd7",
   "metadata": {},
   "outputs": [],
   "source": [
    "d[1] = c[2]"
   ]
  },
  {
   "cell_type": "code",
   "execution_count": 14,
   "id": "14a7950c",
   "metadata": {},
   "outputs": [
    {
     "data": {
      "text/plain": [
       "[1, 3, 3, 4]"
      ]
     },
     "execution_count": 14,
     "metadata": {},
     "output_type": "execute_result"
    }
   ],
   "source": [
    "d"
   ]
  },
  {
   "cell_type": "code",
   "execution_count": 15,
   "id": "ae2c38b2",
   "metadata": {},
   "outputs": [
    {
     "data": {
      "text/plain": [
       "[1, 3, 3, 4]"
      ]
     },
     "execution_count": 15,
     "metadata": {},
     "output_type": "execute_result"
    }
   ],
   "source": [
    "c"
   ]
  },
  {
   "cell_type": "code",
   "execution_count": 1,
   "id": "0f7585dd",
   "metadata": {},
   "outputs": [],
   "source": [
    "from tqdm import tqdm\n",
    "from time import sleep"
   ]
  },
  {
   "cell_type": "code",
   "execution_count": 2,
   "id": "7b7cf6a1",
   "metadata": {},
   "outputs": [],
   "source": [
    "def lower(w):\n",
    "    sleep(1)\n",
    "    print(f\"processing {w}\")\n",
    "    return w.lower"
   ]
  },
  {
   "cell_type": "code",
   "execution_count": 5,
   "id": "db03cc4d",
   "metadata": {},
   "outputs": [
    {
     "name": "stderr",
     "output_type": "stream",
     "text": [
      "\n",
      "  0%|          | 0/3 [00:00<?, ?it/s]\u001b[A"
     ]
    },
    {
     "name": "stdout",
     "output_type": "stream",
     "text": [
      "processing ['WOrd', 'OKnt', 'you']\n"
     ]
    },
    {
     "ename": "AttributeError",
     "evalue": "'list' object has no attribute 'lower'",
     "output_type": "error",
     "traceback": [
      "\u001b[1;31m---------------------------------------------------------------------------\u001b[0m",
      "\u001b[1;31mAttributeError\u001b[0m                            Traceback (most recent call last)",
      "\u001b[1;32m~\\AppData\\Local\\Temp/ipykernel_9544/2036647136.py\u001b[0m in \u001b[0;36m<module>\u001b[1;34m\u001b[0m\n\u001b[0;32m      1\u001b[0m \u001b[0mw\u001b[0m \u001b[1;33m=\u001b[0m \u001b[1;33m[\u001b[0m\u001b[1;34m\"WOrd\"\u001b[0m\u001b[1;33m,\u001b[0m\u001b[1;34m\"OKnt\"\u001b[0m\u001b[1;33m,\u001b[0m\u001b[1;34m\"you\"\u001b[0m\u001b[1;33m]\u001b[0m\u001b[1;33m\u001b[0m\u001b[1;33m\u001b[0m\u001b[0m\n\u001b[1;32m----> 2\u001b[1;33m \u001b[1;33m[\u001b[0m\u001b[0mlower\u001b[0m\u001b[1;33m(\u001b[0m\u001b[0mw\u001b[0m\u001b[1;33m)\u001b[0m \u001b[1;32mfor\u001b[0m \u001b[0mword\u001b[0m \u001b[1;32min\u001b[0m \u001b[0mtqdm\u001b[0m\u001b[1;33m(\u001b[0m\u001b[0mw\u001b[0m\u001b[1;33m)\u001b[0m\u001b[1;33m]\u001b[0m\u001b[1;33m\u001b[0m\u001b[1;33m\u001b[0m\u001b[0m\n\u001b[0m",
      "\u001b[1;32m~\\AppData\\Local\\Temp/ipykernel_9544/2036647136.py\u001b[0m in \u001b[0;36m<listcomp>\u001b[1;34m(.0)\u001b[0m\n\u001b[0;32m      1\u001b[0m \u001b[0mw\u001b[0m \u001b[1;33m=\u001b[0m \u001b[1;33m[\u001b[0m\u001b[1;34m\"WOrd\"\u001b[0m\u001b[1;33m,\u001b[0m\u001b[1;34m\"OKnt\"\u001b[0m\u001b[1;33m,\u001b[0m\u001b[1;34m\"you\"\u001b[0m\u001b[1;33m]\u001b[0m\u001b[1;33m\u001b[0m\u001b[1;33m\u001b[0m\u001b[0m\n\u001b[1;32m----> 2\u001b[1;33m \u001b[1;33m[\u001b[0m\u001b[0mlower\u001b[0m\u001b[1;33m(\u001b[0m\u001b[0mw\u001b[0m\u001b[1;33m)\u001b[0m \u001b[1;32mfor\u001b[0m \u001b[0mword\u001b[0m \u001b[1;32min\u001b[0m \u001b[0mtqdm\u001b[0m\u001b[1;33m(\u001b[0m\u001b[0mw\u001b[0m\u001b[1;33m)\u001b[0m\u001b[1;33m]\u001b[0m\u001b[1;33m\u001b[0m\u001b[1;33m\u001b[0m\u001b[0m\n\u001b[0m",
      "\u001b[1;32m~\\AppData\\Local\\Temp/ipykernel_9544/1502994303.py\u001b[0m in \u001b[0;36mlower\u001b[1;34m(w)\u001b[0m\n\u001b[0;32m      2\u001b[0m     \u001b[0msleep\u001b[0m\u001b[1;33m(\u001b[0m\u001b[1;36m1\u001b[0m\u001b[1;33m)\u001b[0m\u001b[1;33m\u001b[0m\u001b[1;33m\u001b[0m\u001b[0m\n\u001b[0;32m      3\u001b[0m     \u001b[0mprint\u001b[0m\u001b[1;33m(\u001b[0m\u001b[1;34mf\"processing {w}\"\u001b[0m\u001b[1;33m)\u001b[0m\u001b[1;33m\u001b[0m\u001b[1;33m\u001b[0m\u001b[0m\n\u001b[1;32m----> 4\u001b[1;33m     \u001b[1;32mreturn\u001b[0m \u001b[0mw\u001b[0m\u001b[1;33m.\u001b[0m\u001b[0mlower\u001b[0m\u001b[1;33m\u001b[0m\u001b[1;33m\u001b[0m\u001b[0m\n\u001b[0m",
      "\u001b[1;31mAttributeError\u001b[0m: 'list' object has no attribute 'lower'"
     ]
    }
   ],
   "source": [
    "w = [\"WOrd\",\"OKnt\",\"you\"]\n",
    "[lower(w) for word in tqdm(w)]"
   ]
  },
  {
   "cell_type": "code",
   "execution_count": 6,
   "id": "2fb11029",
   "metadata": {},
   "outputs": [
    {
     "name": "stderr",
     "output_type": "stream",
     "text": [
      "  0%|          | 0/6 [01:16<?, ?it/s]\n"
     ]
    }
   ],
   "source": [
    "import numpy as np"
   ]
  },
  {
   "cell_type": "code",
   "execution_count": 7,
   "id": "ccf4bb06",
   "metadata": {},
   "outputs": [
    {
     "data": {
      "text/plain": [
       "array([[52, 47, 57, 97],\n",
       "       [85, 43, 90, 51],\n",
       "       [61, 40, 17,  5],\n",
       "       [78, 49,  8,  7]])"
      ]
     },
     "execution_count": 7,
     "metadata": {},
     "output_type": "execute_result"
    }
   ],
   "source": [
    "a_matrix = np.random.randint(5, 100, size = (4,4))\n",
    "a_matrix"
   ]
  },
  {
   "cell_type": "code",
   "execution_count": 8,
   "id": "a2f392a4",
   "metadata": {},
   "outputs": [
    {
     "data": {
      "text/plain": [
       "3"
      ]
     },
     "execution_count": 8,
     "metadata": {},
     "output_type": "execute_result"
    }
   ],
   "source": [
    "np.argmax(a_matrix)"
   ]
  },
  {
   "cell_type": "code",
   "execution_count": 10,
   "id": "14c111bd",
   "metadata": {},
   "outputs": [
    {
     "data": {
      "text/plain": [
       "(0, 3)"
      ]
     },
     "execution_count": 10,
     "metadata": {},
     "output_type": "execute_result"
    }
   ],
   "source": [
    "np.unravel_index(np.argmax(a_matrix), a_matrix.shape)"
   ]
  },
  {
   "cell_type": "code",
   "execution_count": 11,
   "id": "6a32c063",
   "metadata": {},
   "outputs": [
    {
     "data": {
      "text/plain": [
       "array([52, 47, 57, 97])"
      ]
     },
     "execution_count": 11,
     "metadata": {},
     "output_type": "execute_result"
    }
   ],
   "source": [
    "a_matrix[0]"
   ]
  },
  {
   "cell_type": "code",
   "execution_count": 12,
   "id": "d0ffdfe6",
   "metadata": {},
   "outputs": [
    {
     "data": {
      "text/plain": [
       "97"
      ]
     },
     "execution_count": 12,
     "metadata": {},
     "output_type": "execute_result"
    }
   ],
   "source": [
    "a_matrix[0][3]"
   ]
  },
  {
   "cell_type": "code",
   "execution_count": 13,
   "id": "dc1208a7",
   "metadata": {},
   "outputs": [
    {
     "data": {
      "text/plain": [
       "97"
      ]
     },
     "execution_count": 13,
     "metadata": {},
     "output_type": "execute_result"
    }
   ],
   "source": [
    "a_matrix.max()"
   ]
  },
  {
   "cell_type": "code",
   "execution_count": 14,
   "id": "5a0bfc57",
   "metadata": {},
   "outputs": [
    {
     "data": {
      "text/plain": [
       "5"
      ]
     },
     "execution_count": 14,
     "metadata": {},
     "output_type": "execute_result"
    }
   ],
   "source": [
    "a_matrix.min()"
   ]
  },
  {
   "cell_type": "code",
   "execution_count": 15,
   "id": "5b470b08",
   "metadata": {},
   "outputs": [
    {
     "data": {
      "text/plain": [
       "49.1875"
      ]
     },
     "execution_count": 15,
     "metadata": {},
     "output_type": "execute_result"
    }
   ],
   "source": [
    "a_matrix.mean()"
   ]
  },
  {
   "cell_type": "code",
   "execution_count": 16,
   "id": "ecd71659",
   "metadata": {},
   "outputs": [
    {
     "data": {
      "text/plain": [
       "28.35978391578469"
      ]
     },
     "execution_count": 16,
     "metadata": {},
     "output_type": "execute_result"
    }
   ],
   "source": [
    "a_matrix.std()"
   ]
  },
  {
   "cell_type": "code",
   "execution_count": 1,
   "id": "2aed5247",
   "metadata": {},
   "outputs": [
    {
     "name": "stdout",
     "output_type": "stream",
     "text": [
      "Collecting bs4\n",
      "  Downloading bs4-0.0.1.tar.gz (1.1 kB)\n",
      "Requirement already satisfied: beautifulsoup4 in c:\\users\\bharg\\anaconda3\\lib\\site-packages (from bs4) (4.10.0)\n",
      "Requirement already satisfied: soupsieve>1.2 in c:\\users\\bharg\\anaconda3\\lib\\site-packages (from beautifulsoup4->bs4) (2.2.1)\n",
      "Building wheels for collected packages: bs4\n",
      "  Building wheel for bs4 (setup.py): started\n",
      "  Building wheel for bs4 (setup.py): finished with status 'done'\n",
      "  Created wheel for bs4: filename=bs4-0.0.1-py3-none-any.whl size=1271 sha256=3f7d8d3315b173ddc27f73beec38b6e7a7e02e8733a2f368e620c75be7537dde\n",
      "  Stored in directory: c:\\users\\bharg\\appdata\\local\\pip\\cache\\wheels\\73\\2b\\cb\\099980278a0c9a3e57ff1a89875ec07bfa0b6fcbebb9a8cad3\n",
      "Successfully built bs4\n",
      "Installing collected packages: bs4\n",
      "Successfully installed bs4-0.0.1\n",
      "Note: you may need to restart the kernel to use updated packages.\n"
     ]
    }
   ],
   "source": [
    "pip install bs4"
   ]
  },
  {
   "cell_type": "code",
   "execution_count": 2,
   "id": "a1d8ec7e",
   "metadata": {},
   "outputs": [
    {
     "name": "stdout",
     "output_type": "stream",
     "text": [
      "Requirement already satisfied: requests in c:\\users\\bharg\\anaconda3\\lib\\site-packages (2.26.0)\n",
      "Requirement already satisfied: urllib3<1.27,>=1.21.1 in c:\\users\\bharg\\anaconda3\\lib\\site-packages (from requests) (1.26.7)\n",
      "Requirement already satisfied: charset-normalizer~=2.0.0 in c:\\users\\bharg\\anaconda3\\lib\\site-packages (from requests) (2.0.4)\n",
      "Requirement already satisfied: certifi>=2017.4.17 in c:\\users\\bharg\\anaconda3\\lib\\site-packages (from requests) (2021.10.8)\n",
      "Requirement already satisfied: idna<4,>=2.5 in c:\\users\\bharg\\anaconda3\\lib\\site-packages (from requests) (3.2)\n",
      "Note: you may need to restart the kernel to use updated packages.\n"
     ]
    }
   ],
   "source": [
    "pip install requests"
   ]
  },
  {
   "cell_type": "code",
   "execution_count": 3,
   "id": "dec1590f",
   "metadata": {},
   "outputs": [],
   "source": [
    "from bs4 import BeautifulSoup\n",
    "import requests\n",
    "import pandas as pd"
   ]
  },
  {
   "cell_type": "code",
   "execution_count": 5,
   "id": "bd084ac6",
   "metadata": {},
   "outputs": [],
   "source": [
    "html_text = requests.get(\"https://www.timesjobs.com/candidate/job-search.html?searchType=personalizedSearch&from=submit&txtKeywords=Data+scientist&txtLocation=\").text\n",
    "soup = BeautifulSoup(html_text, 'lxml')\n",
    "project = soup.find_all('li', class_ = \"clearfix job-bx wht-shd-bx\")\n"
   ]
  },
  {
   "cell_type": "code",
   "execution_count": 6,
   "id": "597b4a37",
   "metadata": {},
   "outputs": [
    {
     "data": {
      "text/plain": [
       "[<li class=\"clearfix job-bx wht-shd-bx\">\n",
       " <header class=\"clearfix\">\n",
       " <!--\n",
       " -->\n",
       " <!-- -->\n",
       " <h2>\n",
       " <a href=\"https://www.timesjobs.com/job-detail/data-scientist-mitaja-corporation-1-to-4-yrs-jobid-woz1jnwdqY9zpSvf__PLUS__uAgZw==&amp;source=srp\" onclick=\"logViewUSBT('view','68083743','Data scientist  ,  Python  ,  Data Management','','1 - 4','IT Software : Software Products &amp; Services','1' )\" target=\"_blank\">\n",
       " <strong class=\"blkclor\">Data</strong> <strong class=\"blkclor\">scientist</strong></a> </h2>\n",
       " <h3 class=\"joblist-comp-name\">\n",
       "     mitaja corporation\n",
       "     \n",
       "     </h3>\n",
       " </header>\n",
       " <ul class=\"top-jd-dtl clearfix\">\n",
       " <li><i class=\"material-icons\">card_travel</i>1 - 4 yrs</li>\n",
       " <li>\n",
       " <i class=\"material-icons\">location_on</i>\n",
       " <span title=\"\"></span>\n",
       " </li>\n",
       " </ul>\n",
       " <ul class=\"list-job-dtl clearfix\">\n",
       " <li>\n",
       " <label>Job Description:</label>\n",
       " We are one of the fastest growing talent sourcing network of Recruitment Agencies and Freelance Recruiters. We have strong relationships with IT services companies focussed on... <a href=\"https://www.timesjobs.com/job-detail/data-scientist-mitaja-corporation-1-to-4-yrs-jobid-woz1jnwdqY9zpSvf__PLUS__uAgZw==&amp;source=srp\" target=\"_blank\">More Details</a>\n",
       " </li>\n",
       " <li>\n",
       " <label>KeySkills:</label>\n",
       " <span class=\"srp-skills\">\n",
       " <strong class=\"blkclor\">Data</strong> <strong class=\"blkclor\">scientist</strong>  ,  Python  ,  <strong class=\"blkclor\">Data</strong> Management\n",
       "         \n",
       "       </span> </li>\n",
       " <!--\n",
       "             <li>\n",
       "               <i class=\"material-icons\">location_on</i>\n",
       "               \n",
       "               </li>\n",
       " -->\n",
       " </ul>\n",
       " <div class=\"list-job-bt clearfix\">\n",
       " <div class=\"list-action\">\n",
       " <div class=\"applied-dtl clearfix\" id=\"showPostApplyData_68083743\">\n",
       " <a class=\"waves-effect waves-light btn\" href=\"javascript:callExtJobApply('68083743','adId=woz1jnwdqY9zpSvf__PLUS__uAgZw==&amp;compName=Career Progress Consultants','TJPFSRP');\" onclick=\"trackClickEvent('View_AND_Apply_SRP','from_srp_externalJobs');logViewUSBT('apply','68083743','Data scientist  ,  Python  ,  Data Management','','1 - 4','IT Software : Software Products &amp; Services','1')\">Apply</a>\n",
       " <span class=\"jobs-status clearfix\">\n",
       " <!--\n",
       " -->\n",
       " </span>\n",
       " <span class=\"sim-posted\">\n",
       " <span>Posted few days ago</span>\n",
       " </span>\n",
       " </div>\n",
       " </div>\n",
       " </div>\n",
       " </li>,\n",
       " <li class=\"clearfix job-bx wht-shd-bx\">\n",
       " <header class=\"clearfix\">\n",
       " <!--\n",
       " -->\n",
       " <!-- -->\n",
       " <h2>\n",
       " <a href=\"https://www.timesjobs.com/job-detail/data-scientist-applycup-hiring-solutions-llp-pune-2-to-5-yrs-jobid-R91b7holVNBzpSvf__PLUS__uAgZw==&amp;source=srp\" onclick=\"logViewUSBT('view','65601109','Data Scientist  ,  startup environment  ,  algorithms','Pune','2 - 5','IT Software : Software Products &amp; Services','2' )\" target=\"_blank\">\n",
       " <strong class=\"blkclor\">Data</strong> <strong class=\"blkclor\">Scientist</strong></a> </h2>\n",
       " <h3 class=\"joblist-comp-name\">\n",
       "     APPLYCUP HIRING SOLUTIONS LLP\n",
       "     \n",
       "     </h3>\n",
       " </header>\n",
       " <ul class=\"top-jd-dtl clearfix\">\n",
       " <li><i class=\"material-icons\">card_travel</i>2 - 5 yrs</li>\n",
       " <li>\n",
       " <i class=\"material-icons\">location_on</i>\n",
       " <span title=\"Pune\">Pune</span>\n",
       " </li>\n",
       " </ul>\n",
       " <ul class=\"list-job-dtl clearfix\">\n",
       " <li>\n",
       " <label>Job Description:</label>\n",
       " Data ScientistBE  , Btech  , BSC Computer / IT , MSC  , MCA , any graduate ,  Experience : 2 - 4 YearsSkills : algorithms.Job Description:-Should have worked in the industry f... <a href=\"https://www.timesjobs.com/job-detail/data-scientist-applycup-hiring-solutions-llp-pune-2-to-5-yrs-jobid-R91b7holVNBzpSvf__PLUS__uAgZw==&amp;source=srp\" target=\"_blank\">More Details</a>\n",
       " </li>\n",
       " <li>\n",
       " <label>KeySkills:</label>\n",
       " <span class=\"srp-skills\">\n",
       " <strong class=\"blkclor\">Data</strong> <strong class=\"blkclor\">Scientist</strong>  ,  startup environment  ,  algorithms\n",
       "         \n",
       "       </span> </li>\n",
       " <!--\n",
       "             <li>\n",
       "               <i class=\"material-icons\">location_on</i>\n",
       "               Pune\n",
       "               </li>\n",
       " -->\n",
       " </ul>\n",
       " <div class=\"list-job-bt clearfix\">\n",
       " <div class=\"list-action\">\n",
       " <div class=\"applied-dtl clearfix\" id=\"showPostApplyData_65601109\">\n",
       " <a class=\"waves-effect waves-light btn\" href=\"javascript:callExtJobApply('65601109','adId=R91b7holVNBzpSvf__PLUS__uAgZw==&amp;compName=Career Progress Consultants','TJPFSRP');\" onclick=\"trackClickEvent('View_AND_Apply_SRP','from_srp_externalJobs');logViewUSBT('apply','65601109','Data Scientist  ,  startup environment  ,  algorithms','Pune','2 - 5','IT Software : Software Products &amp; Services','2')\">Apply</a>\n",
       " <span class=\"jobs-status clearfix\">\n",
       " <!--\n",
       " -->\n",
       " </span>\n",
       " <span class=\"sim-posted\">\n",
       " <span>Posted 2 days ago</span>\n",
       " </span>\n",
       " </div>\n",
       " </div>\n",
       " </div>\n",
       " </li>,\n",
       " <li class=\"clearfix job-bx wht-shd-bx\">\n",
       " <header class=\"clearfix\">\n",
       " <!--\n",
       " -->\n",
       " <!-- -->\n",
       " <h2>\n",
       " <a href=\"https://www.timesjobs.com/job-detail/data-scientist-torcai-digital-media-private-limited-pune-0-to-3-yrs-jobid-qsc3l__SLASH__nabLhzpSvf__PLUS__uAgZw==&amp;source=srp\" onclick=\"logViewUSBT('view','66874736','algorithms  ,  machine learning  ,  Data Scientist','Pune','0 - 3','IT Software : Software Products &amp; Services','3' )\" target=\"_blank\">\n",
       " <strong class=\"blkclor\">Data</strong> <strong class=\"blkclor\">Scientist</strong></a> </h2>\n",
       " <h3 class=\"joblist-comp-name\">\n",
       "     torcai digital media private limited\n",
       "     \n",
       "     </h3>\n",
       " </header>\n",
       " <ul class=\"top-jd-dtl clearfix\">\n",
       " <li><i class=\"material-icons\">card_travel</i>0 - 3 yrs</li>\n",
       " <li>\n",
       " <i class=\"material-icons\">location_on</i>\n",
       " <span title=\"Pune\">Pune</span>\n",
       " </li>\n",
       " </ul>\n",
       " <ul class=\"list-job-dtl clearfix\">\n",
       " <li>\n",
       " <label>Job Description:</label>\n",
       " Roles and ResponsibilitiesUnderstand clients business objectives and strategy to ensure that analysis work is focused on the areas where most value can be added.Collaborate wi... <a href=\"https://www.timesjobs.com/job-detail/data-scientist-torcai-digital-media-private-limited-pune-0-to-3-yrs-jobid-qsc3l__SLASH__nabLhzpSvf__PLUS__uAgZw==&amp;source=srp\" target=\"_blank\">More Details</a>\n",
       " </li>\n",
       " <li>\n",
       " <label>KeySkills:</label>\n",
       " <span class=\"srp-skills\">\n",
       "       \n",
       "           algorithms  ,  machine learning  ,  <strong class=\"blkclor\">Data</strong> <strong class=\"blkclor\">Scientist</strong>\n",
       " </span> </li>\n",
       " <!--\n",
       "             <li>\n",
       "               <i class=\"material-icons\">location_on</i>\n",
       "               Pune\n",
       "               </li>\n",
       " -->\n",
       " </ul>\n",
       " <div class=\"list-job-bt clearfix\">\n",
       " <div class=\"list-action\">\n",
       " <div class=\"applied-dtl clearfix\" id=\"showPostApplyData_66874736\">\n",
       " <a class=\"waves-effect waves-light btn\" href=\"javascript:callExtJobApply('66874736','adId=qsc3l__SLASH__nabLhzpSvf__PLUS__uAgZw==&amp;compName=Career Progress Consultants','TJPFSRP');\" onclick=\"trackClickEvent('View_AND_Apply_SRP','from_srp_externalJobs');logViewUSBT('apply','66874736','algorithms  ,  machine learning  ,  Data Scientist','Pune','0 - 3','IT Software : Software Products &amp; Services','3')\">Apply</a>\n",
       " <span class=\"jobs-status clearfix\">\n",
       " <!--\n",
       " -->\n",
       " </span>\n",
       " <span class=\"sim-posted\">\n",
       " <span>Posted few days ago</span>\n",
       " </span>\n",
       " </div>\n",
       " </div>\n",
       " </div>\n",
       " </li>,\n",
       " <li class=\"clearfix job-bx wht-shd-bx\">\n",
       " <header class=\"clearfix\">\n",
       " <!--\n",
       " -->\n",
       " <!--   <span class=\"comp-logo-bg\"> <img src=\"https://static.timesjobs.com/images_cand/tj_images/insider_img/logos/001603.gif\" alt=\"Schneider Electric Pvt Ltd\" title=\"Schneider Electric Pvt Ltd\"/> </span> -->\n",
       " <h2>\n",
       " <a href=\"https://www.timesjobs.com/job-detail/data-scientist-schneider-electric-pvt-ltd-bengaluru-bangalore-1-to-3-yrs-jobid-mYQnkQ9I3ktzpSvf__PLUS__uAgZw==&amp;source=srp\" onclick=\"logViewUSBT('view','68396361','data models  ,  problem solving  ,  Data Scientist','Bengaluru / Bangalore','1 - 3','IT Software : Software Products &amp; Services','4' )\" target=\"_blank\">\n",
       " <strong class=\"blkclor\">Data</strong> <strong class=\"blkclor\">Scientist</strong></a> </h2>\n",
       " <h3 class=\"joblist-comp-name\">\n",
       "     Schneider Electric Pvt Ltd\n",
       "     \n",
       "     </h3>\n",
       " </header>\n",
       " <ul class=\"top-jd-dtl clearfix\">\n",
       " <li><i class=\"material-icons\">card_travel</i>1 - 3 yrs</li>\n",
       " <li>\n",
       " <i class=\"material-icons\">location_on</i>\n",
       " <span title=\"Bengaluru / Bangalore\">Bengaluru / Bangalore</span>\n",
       " </li>\n",
       " </ul>\n",
       " <ul class=\"list-job-dtl clearfix\">\n",
       " <li>\n",
       " <label>Job Description:</label>\n",
       " Responsibilities for Data Scientist 1-3 years of experienceDevelop custom data models and algorithms to apply to data sets.Coordinate with different functional teams to implem... <a href=\"https://www.timesjobs.com/job-detail/data-scientist-schneider-electric-pvt-ltd-bengaluru-bangalore-1-to-3-yrs-jobid-mYQnkQ9I3ktzpSvf__PLUS__uAgZw==&amp;source=srp\" target=\"_blank\">More Details</a>\n",
       " </li>\n",
       " <li>\n",
       " <label>KeySkills:</label>\n",
       " <span class=\"srp-skills\">\n",
       " <strong class=\"blkclor\">data</strong> models  ,  problem solving  ,  <strong class=\"blkclor\">Data</strong> <strong class=\"blkclor\">Scientist</strong>\n",
       " </span> </li>\n",
       " <!--\n",
       "             <li>\n",
       "               <i class=\"material-icons\">location_on</i>\n",
       "               Bengaluru / Bangalore\n",
       "               </li>\n",
       " -->\n",
       " </ul>\n",
       " <div class=\"list-job-bt clearfix\">\n",
       " <div class=\"list-action\">\n",
       " <div class=\"applied-dtl clearfix\" id=\"showPostApplyData_68396361\">\n",
       " <a class=\"waves-effect waves-light btn\" href=\"javascript:callExtJobApply('68396361','adId=mYQnkQ9I3ktzpSvf__PLUS__uAgZw==&amp;compName=Career Progress Consultants','TJPFSRP');\" onclick=\"trackClickEvent('View_AND_Apply_SRP','from_srp_externalJobs');logViewUSBT('apply','68396361','data models  ,  problem solving  ,  Data Scientist','Bengaluru / Bangalore','1 - 3','IT Software : Software Products &amp; Services','4')\">Apply</a>\n",
       " <span class=\"jobs-status clearfix\">\n",
       " <!--\n",
       " -->\n",
       " </span>\n",
       " <span class=\"sim-posted\">\n",
       " <span>Posted 1 day ago</span>\n",
       " </span>\n",
       " </div>\n",
       " </div>\n",
       " </div>\n",
       " </li>,\n",
       " <li class=\"clearfix job-bx wht-shd-bx\">\n",
       " <header class=\"clearfix\">\n",
       " <!--\n",
       " -->\n",
       " <!-- -->\n",
       " <h2>\n",
       " <a href=\"https://www.timesjobs.com/job-detail/data-scientist-redlotus-mumbai-0-to-3-yrs-jobid-Y2huC__PLUS__QCa3FzpSvf__PLUS__uAgZw==&amp;source=srp\" onclick=\"logViewUSBT('view','65778618','data scientist  ,  statistical modeling  ,  data visualization','Mumbai','0 - 3','IT Software : Software Products &amp; Services','5' )\" target=\"_blank\">\n",
       " <strong class=\"blkclor\">Data</strong> <strong class=\"blkclor\">Scientist</strong></a> </h2>\n",
       " <h3 class=\"joblist-comp-name\">\n",
       "     RedLotus\n",
       "     \n",
       "     </h3>\n",
       " </header>\n",
       " <ul class=\"top-jd-dtl clearfix\">\n",
       " <li><i class=\"material-icons\">card_travel</i>0 - 3 yrs</li>\n",
       " <li>\n",
       " <i class=\"material-icons\">location_on</i>\n",
       " <span title=\"Mumbai\">Mumbai</span>\n",
       " </li>\n",
       " </ul>\n",
       " <ul class=\"list-job-dtl clearfix\">\n",
       " <li>\n",
       " <label>Job Description:</label>\n",
       " Responsibilities: Undertake preprocessing of structured and unstructured data.Build data products to extract valuable business insightsBuild models to address business problem... <a href=\"https://www.timesjobs.com/job-detail/data-scientist-redlotus-mumbai-0-to-3-yrs-jobid-Y2huC__PLUS__QCa3FzpSvf__PLUS__uAgZw==&amp;source=srp\" target=\"_blank\">More Details</a>\n",
       " </li>\n",
       " <li>\n",
       " <label>KeySkills:</label>\n",
       " <span class=\"srp-skills\">\n",
       " <strong class=\"blkclor\">data</strong> <strong class=\"blkclor\">scientist</strong>  ,  statistical modeling  ,  <strong class=\"blkclor\">data</strong> visualization\n",
       "         \n",
       "       </span> </li>\n",
       " <!--\n",
       "             <li>\n",
       "               <i class=\"material-icons\">location_on</i>\n",
       "               Mumbai\n",
       "               </li>\n",
       " -->\n",
       " </ul>\n",
       " <div class=\"list-job-bt clearfix\">\n",
       " <div class=\"list-action\">\n",
       " <div class=\"applied-dtl clearfix\" id=\"showPostApplyData_65778618\">\n",
       " <a class=\"waves-effect waves-light btn\" href=\"javascript:callExtJobApply('65778618','adId=Y2huC__PLUS__QCa3FzpSvf__PLUS__uAgZw==&amp;compName=Career Progress Consultants','TJPFSRP');\" onclick=\"trackClickEvent('View_AND_Apply_SRP','from_srp_externalJobs');logViewUSBT('apply','65778618','data scientist  ,  statistical modeling  ,  data visualization','Mumbai','0 - 3','IT Software : Software Products &amp; Services','5')\">Apply</a>\n",
       " <span class=\"jobs-status clearfix\">\n",
       " <!--\n",
       "        <i class=\"material-icons trnding-up\" title=\"Recently posted job, Recruiter is actively looking for candidates\">check_circle</i>\n",
       "         \n",
       " -->\n",
       " </span>\n",
       " <span class=\"sim-posted\">\n",
       " <span>Posted 6 days ago</span>\n",
       " </span>\n",
       " </div>\n",
       " </div>\n",
       " </div>\n",
       " </li>,\n",
       " <li class=\"clearfix job-bx wht-shd-bx\">\n",
       " <header class=\"clearfix\">\n",
       " <!--\n",
       " -->\n",
       " <!--   <span class=\"comp-logo-bg\"> <img src=\"https://static.timesjobs.com/images_cand/tj_images/insider_img/logos/045877.png\" alt=\"Kantar\" title=\"Kantar\"/> </span> -->\n",
       " <h2>\n",
       " <a href=\"https://www.timesjobs.com/job-detail/data-scientist-kantar-2-to-5-yrs-jobid-SDhtewz0jBxzpSvf__PLUS__uAgZw==&amp;source=srp\" onclick=\"logViewUSBT('view','68139818','advanced analytics  ,  data science  ,  consulting  ,  data scientist','','2 - 5','IT Software : Software Products &amp; Services','6' )\" target=\"_blank\">\n",
       " <strong class=\"blkclor\">Data</strong> <strong class=\"blkclor\">Scientist</strong></a> </h2>\n",
       " <h3 class=\"joblist-comp-name\">\n",
       "     Kantar\n",
       "     \n",
       "     </h3>\n",
       " </header>\n",
       " <ul class=\"top-jd-dtl clearfix\">\n",
       " <li><i class=\"material-icons\">card_travel</i>2 - 5 yrs</li>\n",
       " <li>\n",
       " <i class=\"material-icons\">location_on</i>\n",
       " <span title=\"\"></span>\n",
       " </li>\n",
       " </ul>\n",
       " <ul class=\"list-job-dtl clearfix\">\n",
       " <li>\n",
       " <label>Job Description:</label>\n",
       " Your work will entail creating next-generation analytical applications for clients across the globe; empowering analysts ,  democratizing AI and advanced analytics across the ... <a href=\"https://www.timesjobs.com/job-detail/data-scientist-kantar-2-to-5-yrs-jobid-SDhtewz0jBxzpSvf__PLUS__uAgZw==&amp;source=srp\" target=\"_blank\">More Details</a>\n",
       " </li>\n",
       " <li>\n",
       " <label>KeySkills:</label>\n",
       " <span class=\"srp-skills\">\n",
       "       \n",
       "           advanced analytics  ,  <strong class=\"blkclor\">data</strong> science  ,  consulting  ,  <strong class=\"blkclor\">data</strong> <strong class=\"blkclor\">scientist</strong>\n",
       " </span> </li>\n",
       " <!--\n",
       "             <li>\n",
       "               <i class=\"material-icons\">location_on</i>\n",
       "               \n",
       "               </li>\n",
       " -->\n",
       " </ul>\n",
       " <div class=\"list-job-bt clearfix\">\n",
       " <div class=\"list-action\">\n",
       " <div class=\"applied-dtl clearfix\" id=\"showPostApplyData_68139818\">\n",
       " <a class=\"waves-effect waves-light btn\" href=\"javascript:callExtJobApply('68139818','adId=SDhtewz0jBxzpSvf__PLUS__uAgZw==&amp;compName=Career Progress Consultants','TJPFSRP');\" onclick=\"trackClickEvent('View_AND_Apply_SRP','from_srp_externalJobs');logViewUSBT('apply','68139818','advanced analytics  ,  data science  ,  consulting  ,  data scientist','','2 - 5','IT Software : Software Products &amp; Services','6')\">Apply</a>\n",
       " <span class=\"jobs-status clearfix\">\n",
       " <!--\n",
       "        <i class=\"material-icons trnding-up\" title=\"Recently posted job, Recruiter is actively looking for candidates\">check_circle</i>\n",
       "         \n",
       " -->\n",
       " </span>\n",
       " <span class=\"sim-posted\">\n",
       " <span>Posted few days ago</span>\n",
       " </span>\n",
       " </div>\n",
       " </div>\n",
       " </div>\n",
       " </li>,\n",
       " <li class=\"clearfix job-bx wht-shd-bx\">\n",
       " <header class=\"clearfix\">\n",
       " <!--\n",
       " -->\n",
       " <!--   <span class=\"comp-logo-bg\"> <img src=\"https://static.timesjobs.com/images_cand/tj_images/insider_img/logos/003036.png\" alt=\"Michelin India Pvt Ltd\" title=\"Michelin India Pvt Ltd\"/> </span> -->\n",
       " <h2>\n",
       " <a href=\"https://www.timesjobs.com/job-detail/data-scientist-michelin-india-pvt-ltd-pune-0-to-3-yrs-jobid-j1D2VpLYXXFzpSvf__PLUS__uAgZw==&amp;source=srp\" onclick=\"logViewUSBT('view','68308429','data analysis  ,  data scientist  ,  source code','Pune','0 - 3','IT Software : Software Products &amp; Services','7' )\" target=\"_blank\">\n",
       " <strong class=\"blkclor\">Data</strong> <strong class=\"blkclor\">Scientist</strong></a> </h2>\n",
       " <h3 class=\"joblist-comp-name\">\n",
       "     Michelin India Pvt Ltd\n",
       "     \n",
       "     </h3>\n",
       " </header>\n",
       " <ul class=\"top-jd-dtl clearfix\">\n",
       " <li><i class=\"material-icons\">card_travel</i>0 - 3 yrs</li>\n",
       " <li>\n",
       " <i class=\"material-icons\">location_on</i>\n",
       " <span title=\"Pune\">Pune</span>\n",
       " </li>\n",
       " </ul>\n",
       " <ul class=\"list-job-dtl clearfix\">\n",
       " <li>\n",
       " <label>Job Description:</label>\n",
       " Data Analysis and Modelization The need is understood and formalized in a descriptive datasheet or Cahier des Charges The methods are clearly selected by their theoretical bas... <a href=\"https://www.timesjobs.com/job-detail/data-scientist-michelin-india-pvt-ltd-pune-0-to-3-yrs-jobid-j1D2VpLYXXFzpSvf__PLUS__uAgZw==&amp;source=srp\" target=\"_blank\">More Details</a>\n",
       " </li>\n",
       " <li>\n",
       " <label>KeySkills:</label>\n",
       " <span class=\"srp-skills\">\n",
       " <strong class=\"blkclor\">data</strong> analysis  ,  <strong class=\"blkclor\">data</strong> <strong class=\"blkclor\">scientist</strong>  ,  source code\n",
       "         \n",
       "       </span> </li>\n",
       " <!--\n",
       "             <li>\n",
       "               <i class=\"material-icons\">location_on</i>\n",
       "               Pune\n",
       "               </li>\n",
       " -->\n",
       " </ul>\n",
       " <div class=\"list-job-bt clearfix\">\n",
       " <div class=\"list-action\">\n",
       " <div class=\"applied-dtl clearfix\" id=\"showPostApplyData_68308429\">\n",
       " <a class=\"waves-effect waves-light btn\" href=\"javascript:callExtJobApply('68308429','adId=j1D2VpLYXXFzpSvf__PLUS__uAgZw==&amp;compName=Career Progress Consultants','TJPFSRP');\" onclick=\"trackClickEvent('View_AND_Apply_SRP','from_srp_externalJobs');logViewUSBT('apply','68308429','data analysis  ,  data scientist  ,  source code','Pune','0 - 3','IT Software : Software Products &amp; Services','7')\">Apply</a>\n",
       " <span class=\"jobs-status clearfix\">\n",
       " <!--\n",
       "        <i class=\"material-icons trnding-up\" title=\"Recently posted job, Recruiter is actively looking for candidates\">check_circle</i>\n",
       "         \n",
       " -->\n",
       " </span>\n",
       " <span class=\"sim-posted\">\n",
       " <span>Posted few days ago</span>\n",
       " </span>\n",
       " </div>\n",
       " </div>\n",
       " </div>\n",
       " </li>,\n",
       " <li class=\"clearfix job-bx wht-shd-bx\">\n",
       " <header class=\"clearfix\">\n",
       " <!--\n",
       " -->\n",
       " <!-- -->\n",
       " <h2>\n",
       " <a href=\"https://www.timesjobs.com/job-detail/data-scientist-analytics-vidhya-delhi-delhi-ncr-0-to-2-yrs-jobid-sqGDELjaJxZzpSvf__PLUS__uAgZw==&amp;source=srp\" onclick=\"logViewUSBT('view','66904552','data science  ,  predictive modeling  ,  data scientist','Delhi,  Delhi/NCR','0 - 2','IT Software : Software Products &amp; Services','8' )\" target=\"_blank\">\n",
       " <strong class=\"blkclor\">Data</strong> <strong class=\"blkclor\">Scientist</strong></a> </h2>\n",
       " <h3 class=\"joblist-comp-name\">\n",
       "     Analytics Vidhya\n",
       "     \n",
       "     </h3>\n",
       " </header>\n",
       " <ul class=\"top-jd-dtl clearfix\">\n",
       " <li><i class=\"material-icons\">card_travel</i>0 - 2 yrs</li>\n",
       " <li>\n",
       " <i class=\"material-icons\">location_on</i>\n",
       " <span title=\"Delhi,  Delhi/NCR\">Delhi,  Delhi/NCR</span>\n",
       " </li>\n",
       " </ul>\n",
       " <ul class=\"list-job-dtl clearfix\">\n",
       " <li>\n",
       " <label>Job Description:</label>\n",
       " Job Description and Responsibilities:Working in a small team led by the Chief Risk Officer and the co-founder of company ,  the data scientist will work on improving the data ... <a href=\"https://www.timesjobs.com/job-detail/data-scientist-analytics-vidhya-delhi-delhi-ncr-0-to-2-yrs-jobid-sqGDELjaJxZzpSvf__PLUS__uAgZw==&amp;source=srp\" target=\"_blank\">More Details</a>\n",
       " </li>\n",
       " <li>\n",
       " <label>KeySkills:</label>\n",
       " <span class=\"srp-skills\">\n",
       " <strong class=\"blkclor\">data</strong> science  ,  predictive modeling  ,  <strong class=\"blkclor\">data</strong> <strong class=\"blkclor\">scientist</strong>\n",
       " </span> </li>\n",
       " <!--\n",
       "             <li>\n",
       "               <i class=\"material-icons\">location_on</i>\n",
       "               Delhi,  Delhi/NCR\n",
       "               </li>\n",
       " -->\n",
       " </ul>\n",
       " <div class=\"list-job-bt clearfix\">\n",
       " <div class=\"list-action\">\n",
       " <div class=\"applied-dtl clearfix\" id=\"showPostApplyData_66904552\">\n",
       " <a class=\"waves-effect waves-light btn\" href=\"javascript:callExtJobApply('66904552','adId=sqGDELjaJxZzpSvf__PLUS__uAgZw==&amp;compName=Career Progress Consultants','TJPFSRP');\" onclick=\"trackClickEvent('View_AND_Apply_SRP','from_srp_externalJobs');logViewUSBT('apply','66904552','data science  ,  predictive modeling  ,  data scientist','Delhi,  Delhi/NCR','0 - 2','IT Software : Software Products &amp; Services','8')\">Apply</a>\n",
       " <span class=\"jobs-status clearfix\">\n",
       " <!--\n",
       " -->\n",
       " </span>\n",
       " <span class=\"sim-posted\">\n",
       " <span>Posted few days ago</span>\n",
       " </span>\n",
       " </div>\n",
       " </div>\n",
       " </div>\n",
       " </li>,\n",
       " <li class=\"clearfix job-bx wht-shd-bx\">\n",
       " <header class=\"clearfix\">\n",
       " <!--\n",
       " -->\n",
       " <!--   <span class=\"comp-logo-bg\"> <img src=\"https://static.timesjobs.com/images_cand/tj_images/insider_img/logos/005401.gif\" alt=\"Boehringer Ingelheim India Pvt Ltd\" title=\"Boehringer Ingelheim India Pvt Ltd\"/> </span> -->\n",
       " <h2>\n",
       " <a href=\"https://www.timesjobs.com/job-detail/data-scientist-boehringer-ingelheim-india-pvt-ltd-germany-0-to-3-yrs-jobid-va__PLUS__OUQG2cd1zpSvf__PLUS__uAgZw==&amp;source=srp\" onclick=\"logViewUSBT('view','68294407','agile   ,  Data Scientist  ,   R-Shiny program','Germany','0 - 3','IT Software : Software Products &amp; Services','9' )\" target=\"_blank\">\n",
       " <strong class=\"blkclor\">Data</strong> <strong class=\"blkclor\">Scientist</strong></a> </h2>\n",
       " <h3 class=\"joblist-comp-name\">\n",
       "     Boehringer Ingelheim India Pvt Ltd\n",
       "     \n",
       "     </h3>\n",
       " </header>\n",
       " <ul class=\"top-jd-dtl clearfix\">\n",
       " <li><i class=\"material-icons\">card_travel</i>0 - 3 yrs</li>\n",
       " <li>\n",
       " <i class=\"material-icons\">location_on</i>\n",
       " <span title=\"Germany\">Germany</span>\n",
       " </li>\n",
       " </ul>\n",
       " <ul class=\"list-job-dtl clearfix\">\n",
       " <li>\n",
       " <label>Job Description:</label>\n",
       " On our journey to transform BDS into a modern data science organization in clinical development capable to thrive in a world of rapid and continuous change ,  we have been cha... <a href=\"https://www.timesjobs.com/job-detail/data-scientist-boehringer-ingelheim-india-pvt-ltd-germany-0-to-3-yrs-jobid-va__PLUS__OUQG2cd1zpSvf__PLUS__uAgZw==&amp;source=srp\" target=\"_blank\">More Details</a>\n",
       " </li>\n",
       " <li>\n",
       " <label>KeySkills:</label>\n",
       " <span class=\"srp-skills\">\n",
       "       \n",
       "           agile   ,  <strong class=\"blkclor\">Data</strong> <strong class=\"blkclor\">Scientist</strong>  ,   R-Shiny program\n",
       "         \n",
       "       </span> </li>\n",
       " <!--\n",
       "             <li>\n",
       "               <i class=\"material-icons\">location_on</i>\n",
       "               Germany\n",
       "               </li>\n",
       " -->\n",
       " </ul>\n",
       " <div class=\"list-job-bt clearfix\">\n",
       " <div class=\"list-action\">\n",
       " <div class=\"applied-dtl clearfix\" id=\"showPostApplyData_68294407\">\n",
       " <a class=\"waves-effect waves-light btn\" href=\"javascript:callExtJobApply('68294407','adId=va__PLUS__OUQG2cd1zpSvf__PLUS__uAgZw==&amp;compName=Career Progress Consultants','TJPFSRP');\" onclick=\"trackClickEvent('View_AND_Apply_SRP','from_srp_externalJobs');logViewUSBT('apply','68294407','agile   ,  Data Scientist  ,   R-Shiny program','Germany','0 - 3','IT Software : Software Products &amp; Services','9')\">Apply</a>\n",
       " <span class=\"jobs-status clearfix\">\n",
       " <!--\n",
       " -->\n",
       " </span>\n",
       " <span class=\"sim-posted\">\n",
       " <span>Posted few days ago</span>\n",
       " </span>\n",
       " </div>\n",
       " </div>\n",
       " </div>\n",
       " </li>,\n",
       " <li class=\"clearfix job-bx wht-shd-bx\">\n",
       " <header class=\"clearfix\">\n",
       " <!--\n",
       " -->\n",
       " <!-- -->\n",
       " <h2>\n",
       " <a href=\"https://www.timesjobs.com/job-detail/data-scientist-antuit-0-to-3-yrs-jobid-TUqrNZ00DIVzpSvf__PLUS__uAgZw==&amp;source=srp\" onclick=\"logViewUSBT('view','67979612','business requirements  ,  data science  ,  data scientist  ,  cpg','','0 - 3','IT Software : Software Products &amp; Services','10' )\" target=\"_blank\">\n",
       " <strong class=\"blkclor\">Data</strong> <strong class=\"blkclor\">Scientist</strong></a> </h2>\n",
       " <h3 class=\"joblist-comp-name\">\n",
       "     Antuit\n",
       "     \n",
       "     </h3>\n",
       " </header>\n",
       " <ul class=\"top-jd-dtl clearfix\">\n",
       " <li><i class=\"material-icons\">card_travel</i>0 - 3 yrs</li>\n",
       " <li>\n",
       " <i class=\"material-icons\">location_on</i>\n",
       " <span title=\"\"></span>\n",
       " </li>\n",
       " </ul>\n",
       " <ul class=\"list-job-dtl clearfix\">\n",
       " <li>\n",
       " <label>Job Description:</label>\n",
       " The Role:Antuit.ai offers AI products that help CPG and retail companies to plan and operate their business better. The data scientist will play a critical role in ensuring th... <a href=\"https://www.timesjobs.com/job-detail/data-scientist-antuit-0-to-3-yrs-jobid-TUqrNZ00DIVzpSvf__PLUS__uAgZw==&amp;source=srp\" target=\"_blank\">More Details</a>\n",
       " </li>\n",
       " <li>\n",
       " <label>KeySkills:</label>\n",
       " <span class=\"srp-skills\">\n",
       "       \n",
       "           business requirements  ,  <strong class=\"blkclor\">data</strong> science  ,  <strong class=\"blkclor\">data</strong> <strong class=\"blkclor\">scientist</strong>  ,  cpg\n",
       "         \n",
       "       </span> </li>\n",
       " <!--\n",
       "             <li>\n",
       "               <i class=\"material-icons\">location_on</i>\n",
       "               \n",
       "               </li>\n",
       " -->\n",
       " </ul>\n",
       " <div class=\"list-job-bt clearfix\">\n",
       " <div class=\"list-action\">\n",
       " <div class=\"applied-dtl clearfix\" id=\"showPostApplyData_67979612\">\n",
       " <a class=\"waves-effect waves-light btn\" href=\"javascript:callExtJobApply('67979612','adId=TUqrNZ00DIVzpSvf__PLUS__uAgZw==&amp;compName=Career Progress Consultants','TJPFSRP');\" onclick=\"trackClickEvent('View_AND_Apply_SRP','from_srp_externalJobs');logViewUSBT('apply','67979612','business requirements  ,  data science  ,  data scientist  ,  cpg','','0 - 3','IT Software : Software Products &amp; Services','10')\">Apply</a>\n",
       " <span class=\"jobs-status clearfix\">\n",
       " <!--\n",
       " -->\n",
       " </span>\n",
       " <span class=\"sim-posted\">\n",
       " <span>Posted a month ago</span>\n",
       " </span>\n",
       " </div>\n",
       " </div>\n",
       " </div>\n",
       " </li>,\n",
       " <li class=\"clearfix job-bx wht-shd-bx\">\n",
       " <header class=\"clearfix\">\n",
       " <!--\n",
       " -->\n",
       " <!-- -->\n",
       " <h2>\n",
       " <a href=\"https://www.timesjobs.com/job-detail/data-scientist-analytics-vidhya-bengaluru-bangalore-2-to-5-yrs-jobid-bBiG9Sk1fThzpSvf__PLUS__uAgZw==&amp;source=srp\" onclick=\"logViewUSBT('view','66735709','sas  ,  data science  ,  use cases  ,  predictive modeling  ,  data scientist','Bengaluru / Bangalore','2 - 5','IT Software : Software Products &amp; Services','11' )\" target=\"_blank\">\n",
       " <strong class=\"blkclor\">Data</strong> <strong class=\"blkclor\">Scientist</strong></a> </h2>\n",
       " <h3 class=\"joblist-comp-name\">\n",
       "     Analytics Vidhya\n",
       "     \n",
       "     </h3>\n",
       " </header>\n",
       " <ul class=\"top-jd-dtl clearfix\">\n",
       " <li><i class=\"material-icons\">card_travel</i>2 - 5 yrs</li>\n",
       " <li>\n",
       " <i class=\"material-icons\">location_on</i>\n",
       " <span title=\"Bengaluru / Bangalore\">Bengaluru / Bangalore</span>\n",
       " </li>\n",
       " </ul>\n",
       " <ul class=\"list-job-dtl clearfix\">\n",
       " <li>\n",
       " <label>Job Description:</label>\n",
       " Person with 2  years of experience in data science. The person should have prior experience with practical data science applications and use cases.Person who loves problem sol... <a href=\"https://www.timesjobs.com/job-detail/data-scientist-analytics-vidhya-bengaluru-bangalore-2-to-5-yrs-jobid-bBiG9Sk1fThzpSvf__PLUS__uAgZw==&amp;source=srp\" target=\"_blank\">More Details</a>\n",
       " </li>\n",
       " <li>\n",
       " <label>KeySkills:</label>\n",
       " <span class=\"srp-skills\">\n",
       "       \n",
       "           sas  ,  <strong class=\"blkclor\">data</strong> science  ,  use cases  ,  predictive modeling  ,  <strong class=\"blkclor\">data</strong> <strong class=\"blkclor\">scientist</strong>\n",
       " </span> </li>\n",
       " <!--\n",
       "             <li>\n",
       "               <i class=\"material-icons\">location_on</i>\n",
       "               Bengaluru / Bangalore\n",
       "               </li>\n",
       " -->\n",
       " </ul>\n",
       " <div class=\"list-job-bt clearfix\">\n",
       " <div class=\"list-action\">\n",
       " <div class=\"applied-dtl clearfix\" id=\"showPostApplyData_66735709\">\n",
       " <a class=\"waves-effect waves-light btn\" href=\"javascript:callExtJobApply('66735709','adId=bBiG9Sk1fThzpSvf__PLUS__uAgZw==&amp;compName=Career Progress Consultants','TJPFSRP');\" onclick=\"trackClickEvent('View_AND_Apply_SRP','from_srp_externalJobs');logViewUSBT('apply','66735709','sas  ,  data science  ,  use cases  ,  predictive modeling  ,  data scientist','Bengaluru / Bangalore','2 - 5','IT Software : Software Products &amp; Services','11')\">Apply</a>\n",
       " <span class=\"jobs-status clearfix\">\n",
       " <!--\n",
       " -->\n",
       " </span>\n",
       " <span class=\"sim-posted\">\n",
       " <span>Posted few days ago</span>\n",
       " </span>\n",
       " </div>\n",
       " </div>\n",
       " </div>\n",
       " </li>,\n",
       " <li class=\"clearfix job-bx wht-shd-bx\">\n",
       " <header class=\"clearfix\">\n",
       " <!--\n",
       " -->\n",
       " <!-- -->\n",
       " <h2>\n",
       " <a href=\"https://www.timesjobs.com/job-detail/data-scientist-analytics-vidhya-gurgaon-2-to-5-yrs-jobid-__PLUS__9fUKEl86gVzpSvf__PLUS__uAgZw==&amp;source=srp\" onclick=\"logViewUSBT('view','65519020','sas  ,  data science  ,  use cases  ,  predictive modeling  ,  data scientist','Gurgaon','2 - 5','IT Software : Software Products &amp; Services','12' )\" target=\"_blank\">\n",
       " <strong class=\"blkclor\">Data</strong> <strong class=\"blkclor\">Scientist</strong></a> </h2>\n",
       " <h3 class=\"joblist-comp-name\">\n",
       "     Analytics Vidhya\n",
       "     \n",
       "     </h3>\n",
       " </header>\n",
       " <ul class=\"top-jd-dtl clearfix\">\n",
       " <li><i class=\"material-icons\">card_travel</i>2 - 5 yrs</li>\n",
       " <li>\n",
       " <i class=\"material-icons\">location_on</i>\n",
       " <span title=\"Gurgaon\">Gurgaon</span>\n",
       " </li>\n",
       " </ul>\n",
       " <ul class=\"list-job-dtl clearfix\">\n",
       " <li>\n",
       " <label>Job Description:</label>\n",
       " Data ScientistData Scientist RefreshmintGurgaon INR 4 - 9 LPA Experience : 1 - 3 YRS. Openings: 1Details:Do you feel passionately about solving problems through data? Have you... <a href=\"https://www.timesjobs.com/job-detail/data-scientist-analytics-vidhya-gurgaon-2-to-5-yrs-jobid-__PLUS__9fUKEl86gVzpSvf__PLUS__uAgZw==&amp;source=srp\" target=\"_blank\">More Details</a>\n",
       " </li>\n",
       " <li>\n",
       " <label>KeySkills:</label>\n",
       " <span class=\"srp-skills\">\n",
       "       \n",
       "           sas  ,  <strong class=\"blkclor\">data</strong> science  ,  use cases  ,  predictive modeling  ,  <strong class=\"blkclor\">data</strong> <strong class=\"blkclor\">scientist</strong>\n",
       " </span> </li>\n",
       " <!--\n",
       "             <li>\n",
       "               <i class=\"material-icons\">location_on</i>\n",
       "               Gurgaon\n",
       "               </li>\n",
       " -->\n",
       " </ul>\n",
       " <div class=\"list-job-bt clearfix\">\n",
       " <div class=\"list-action\">\n",
       " <div class=\"applied-dtl clearfix\" id=\"showPostApplyData_65519020\">\n",
       " <a class=\"waves-effect waves-light btn\" href=\"javascript:callExtJobApply('65519020','adId=__PLUS__9fUKEl86gVzpSvf__PLUS__uAgZw==&amp;compName=Career Progress Consultants','TJPFSRP');\" onclick=\"trackClickEvent('View_AND_Apply_SRP','from_srp_externalJobs');logViewUSBT('apply','65519020','sas  ,  data science  ,  use cases  ,  predictive modeling  ,  data scientist','Gurgaon','2 - 5','IT Software : Software Products &amp; Services','12')\">Apply</a>\n",
       " <span class=\"jobs-status clearfix\">\n",
       " <!--\n",
       " -->\n",
       " </span>\n",
       " <span class=\"sim-posted\">\n",
       " <span>Posted few days ago</span>\n",
       " </span>\n",
       " </div>\n",
       " </div>\n",
       " </div>\n",
       " </li>,\n",
       " <li class=\"clearfix job-bx wht-shd-bx\">\n",
       " <header class=\"clearfix\">\n",
       " <!--\n",
       " -->\n",
       " <!-- -->\n",
       " <h2>\n",
       " <a href=\"https://www.timesjobs.com/job-detail/data-scientist-analytics-vidhya-gurgaon-3-to-6-yrs-jobid-Gyey__SLASH__gl1a8VzpSvf__PLUS__uAgZw==&amp;source=srp\" onclick=\"logViewUSBT('view','65826487','sas  ,  data science  ,  use cases  ,  predictive modeling  ,  data scientist','Gurgaon','3 - 6','IT Software : Software Products &amp; Services','13' )\" target=\"_blank\">\n",
       " <strong class=\"blkclor\">Data</strong> <strong class=\"blkclor\">Scientist</strong></a> </h2>\n",
       " <h3 class=\"joblist-comp-name\">\n",
       "     Analytics Vidhya\n",
       "     \n",
       "     </h3>\n",
       " </header>\n",
       " <ul class=\"top-jd-dtl clearfix\">\n",
       " <li><i class=\"material-icons\">card_travel</i>3 - 6 yrs</li>\n",
       " <li>\n",
       " <i class=\"material-icons\">location_on</i>\n",
       " <span title=\"Gurgaon\">Gurgaon</span>\n",
       " </li>\n",
       " </ul>\n",
       " <ul class=\"list-job-dtl clearfix\">\n",
       " <li>\n",
       " <label>Job Description:</label>\n",
       " This Role Is Best Suited ForPerson with 3  years of experience in data science. The person should have prior experience with practical data science applications and use cases.... <a href=\"https://www.timesjobs.com/job-detail/data-scientist-analytics-vidhya-gurgaon-3-to-6-yrs-jobid-Gyey__SLASH__gl1a8VzpSvf__PLUS__uAgZw==&amp;source=srp\" target=\"_blank\">More Details</a>\n",
       " </li>\n",
       " <li>\n",
       " <label>KeySkills:</label>\n",
       " <span class=\"srp-skills\">\n",
       "       \n",
       "           sas  ,  <strong class=\"blkclor\">data</strong> science  ,  use cases  ,  predictive modeling  ,  <strong class=\"blkclor\">data</strong> <strong class=\"blkclor\">scientist</strong>\n",
       " </span> </li>\n",
       " <!--\n",
       "             <li>\n",
       "               <i class=\"material-icons\">location_on</i>\n",
       "               Gurgaon\n",
       "               </li>\n",
       " -->\n",
       " </ul>\n",
       " <div class=\"list-job-bt clearfix\">\n",
       " <div class=\"list-action\">\n",
       " <div class=\"applied-dtl clearfix\" id=\"showPostApplyData_65826487\">\n",
       " <a class=\"waves-effect waves-light btn\" href=\"javascript:callExtJobApply('65826487','adId=Gyey__SLASH__gl1a8VzpSvf__PLUS__uAgZw==&amp;compName=Career Progress Consultants','TJPFSRP');\" onclick=\"trackClickEvent('View_AND_Apply_SRP','from_srp_externalJobs');logViewUSBT('apply','65826487','sas  ,  data science  ,  use cases  ,  predictive modeling  ,  data scientist','Gurgaon','3 - 6','IT Software : Software Products &amp; Services','13')\">Apply</a>\n",
       " <span class=\"jobs-status clearfix\">\n",
       " <!--\n",
       " -->\n",
       " </span>\n",
       " <span class=\"sim-posted\">\n",
       " <span>Posted few days ago</span>\n",
       " </span>\n",
       " </div>\n",
       " </div>\n",
       " </div>\n",
       " </li>,\n",
       " <li class=\"clearfix job-bx wht-shd-bx\">\n",
       " <header class=\"clearfix\">\n",
       " <!--\n",
       " -->\n",
       " <!-- -->\n",
       " <h2>\n",
       " <a href=\"https://www.timesjobs.com/job-detail/data-scientist-great-learning-gurgaon-bengaluru-bangalore-0-to-3-yrs-jobid-Upq6YRNvruBzpSvf__PLUS__uAgZw==&amp;source=srp\" onclick=\"logViewUSBT('view','67890672','data analysis  ,  program management  ,  dashboards  ,  tableau  ,  use cases  ,  data scientist','Gurgaon,  Bengaluru / Bangalore','0 - 3','IT Software : Software Products &amp; Services','14' )\" target=\"_blank\">\n",
       " <strong class=\"blkclor\">Data</strong> <strong class=\"blkclor\">Scientist</strong></a> </h2>\n",
       " <h3 class=\"joblist-comp-name\">\n",
       "     Great Learning\n",
       "     \n",
       "     </h3>\n",
       " </header>\n",
       " <ul class=\"top-jd-dtl clearfix\">\n",
       " <li><i class=\"material-icons\">card_travel</i>0 - 3 yrs</li>\n",
       " <li>\n",
       " <i class=\"material-icons\">location_on</i>\n",
       " <span title=\"Gurgaon,  Bengaluru / Bangalore\">Gurgaon,  Bengaluru / Bangalore</span>\n",
       " </li>\n",
       " </ul>\n",
       " <ul class=\"list-job-dtl clearfix\">\n",
       " <li>\n",
       " <label>Job Description:</label>\n",
       " Involve in the residency class room sessions to facilitate lectures and lab sessionsBe the first point contact for participants for academic queries and manage discussion grou... <a href=\"https://www.timesjobs.com/job-detail/data-scientist-great-learning-gurgaon-bengaluru-bangalore-0-to-3-yrs-jobid-Upq6YRNvruBzpSvf__PLUS__uAgZw==&amp;source=srp\" target=\"_blank\">More Details</a>\n",
       " </li>\n",
       " <li>\n",
       " <label>KeySkills:</label>\n",
       " <span class=\"srp-skills\">\n",
       "       \n",
       "           data analysis  ,  program management  ,  dashboards  ,  tableau  ,  use cases  ,  data scientist\n",
       "         \n",
       "       </span> </li>\n",
       " <!--\n",
       "             <li>\n",
       "               <i class=\"material-icons\">location_on</i>\n",
       "               Gurgaon,  Bengaluru / Bangalore\n",
       "               </li>\n",
       " -->\n",
       " </ul>\n",
       " <div class=\"list-job-bt clearfix\">\n",
       " <div class=\"list-action\">\n",
       " <div class=\"applied-dtl clearfix\" id=\"showPostApplyData_67890672\">\n",
       " <a class=\"waves-effect waves-light btn\" href=\"javascript:callExtJobApply('67890672','adId=Upq6YRNvruBzpSvf__PLUS__uAgZw==&amp;compName=Career Progress Consultants','TJPFSRP');\" onclick=\"trackClickEvent('View_AND_Apply_SRP','from_srp_externalJobs');logViewUSBT('apply','67890672','data analysis  ,  program management  ,  dashboards  ,  tableau  ,  use cases  ,  data scientist','Gurgaon,  Bengaluru / Bangalore','0 - 3','IT Software : Software Products &amp; Services','14')\">Apply</a>\n",
       " <span class=\"jobs-status clearfix\">\n",
       " <!--\n",
       " -->\n",
       " </span>\n",
       " <span class=\"sim-posted\">\n",
       " <span>Posted few days ago</span>\n",
       " </span>\n",
       " </div>\n",
       " </div>\n",
       " </div>\n",
       " </li>,\n",
       " <li class=\"clearfix job-bx wht-shd-bx\">\n",
       " <header class=\"clearfix\">\n",
       " <!--\n",
       " -->\n",
       " <!-- -->\n",
       " <h2>\n",
       " <a href=\"https://www.timesjobs.com/job-detail/data-scientist-analytics-vidhya-bengaluru-bangalore-3-to-5-yrs-jobid-qNeSmY5jOHpzpSvf__PLUS__uAgZw==&amp;source=srp\" onclick=\"logViewUSBT('view','65519267','sas  ,  data mining  ,  predictive modeling  ,  data scientist  ,  statistical modeling','Bengaluru / Bangalore','3 - 5','IT Software : Software Products &amp; Services','15' )\" target=\"_blank\">\n",
       " <strong class=\"blkclor\">Data</strong> <strong class=\"blkclor\">Scientist</strong></a> </h2>\n",
       " <h3 class=\"joblist-comp-name\">\n",
       "     Analytics Vidhya\n",
       "     \n",
       "     </h3>\n",
       " </header>\n",
       " <ul class=\"top-jd-dtl clearfix\">\n",
       " <li><i class=\"material-icons\">card_travel</i>3 - 5 yrs</li>\n",
       " <li>\n",
       " <i class=\"material-icons\">location_on</i>\n",
       " <span title=\"Bengaluru / Bangalore\">Bengaluru / Bangalore</span>\n",
       " </li>\n",
       " </ul>\n",
       " <ul class=\"list-job-dtl clearfix\">\n",
       " <li>\n",
       " <label>Job Description:</label>\n",
       " Job Description and Responsibilities:Selecting features ,  building and optimizing classifiers using machine learning techniques.Data mining using state-of-the-art methods.Ext... <a href=\"https://www.timesjobs.com/job-detail/data-scientist-analytics-vidhya-bengaluru-bangalore-3-to-5-yrs-jobid-qNeSmY5jOHpzpSvf__PLUS__uAgZw==&amp;source=srp\" target=\"_blank\">More Details</a>\n",
       " </li>\n",
       " <li>\n",
       " <label>KeySkills:</label>\n",
       " <span class=\"srp-skills\">\n",
       "       \n",
       "           sas  ,  <strong class=\"blkclor\">data</strong> mining  ,  predictive modeling  ,  <strong class=\"blkclor\">data</strong> <strong class=\"blkclor\">scientist</strong>  ,  statistical modeling\n",
       "         \n",
       "       </span> </li>\n",
       " <!--\n",
       "             <li>\n",
       "               <i class=\"material-icons\">location_on</i>\n",
       "               Bengaluru / Bangalore\n",
       "               </li>\n",
       " -->\n",
       " </ul>\n",
       " <div class=\"list-job-bt clearfix\">\n",
       " <div class=\"list-action\">\n",
       " <div class=\"applied-dtl clearfix\" id=\"showPostApplyData_65519267\">\n",
       " <a class=\"waves-effect waves-light btn\" href=\"javascript:callExtJobApply('65519267','adId=qNeSmY5jOHpzpSvf__PLUS__uAgZw==&amp;compName=Career Progress Consultants','TJPFSRP');\" onclick=\"trackClickEvent('View_AND_Apply_SRP','from_srp_externalJobs');logViewUSBT('apply','65519267','sas  ,  data mining  ,  predictive modeling  ,  data scientist  ,  statistical modeling','Bengaluru / Bangalore','3 - 5','IT Software : Software Products &amp; Services','15')\">Apply</a>\n",
       " <span class=\"jobs-status clearfix\">\n",
       " <!--\n",
       " -->\n",
       " </span>\n",
       " <span class=\"sim-posted\">\n",
       " <span>Posted few days ago</span>\n",
       " </span>\n",
       " </div>\n",
       " </div>\n",
       " </div>\n",
       " </li>,\n",
       " <li class=\"clearfix job-bx wht-shd-bx\">\n",
       " <header class=\"clearfix\">\n",
       " <!--\n",
       " -->\n",
       " <!-- -->\n",
       " <h2>\n",
       " <a href=\"https://www.timesjobs.com/job-detail/data-scientist-analytics-vidhya-gurgaon-3-to-5-yrs-jobid-TlT0NWDfbJVzpSvf__PLUS__uAgZw==&amp;source=srp\" onclick=\"logViewUSBT('view','65519242','it tools  ,  tableau  ,  java  ,  vba  ,  data scientist  ,  statistical modeling  ,  visual basic','Gurgaon','3 - 5','IT Software : Software Products &amp; Services','16' )\" target=\"_blank\">\n",
       " <strong class=\"blkclor\">Data</strong> <strong class=\"blkclor\">Scientist</strong></a> </h2>\n",
       " <h3 class=\"joblist-comp-name\">\n",
       "     Analytics Vidhya\n",
       "     \n",
       "     </h3>\n",
       " </header>\n",
       " <ul class=\"top-jd-dtl clearfix\">\n",
       " <li><i class=\"material-icons\">card_travel</i>3 - 5 yrs</li>\n",
       " <li>\n",
       " <i class=\"material-icons\">location_on</i>\n",
       " <span title=\"Gurgaon\">Gurgaon</span>\n",
       " </li>\n",
       " </ul>\n",
       " <ul class=\"list-job-dtl clearfix\">\n",
       " <li>\n",
       " <label>Job Description:</label>\n",
       " Use SAP ,  Tableau and Success Factors IT tools to derive insights from dataApply statistical knowledge to develop data modelsBuild Excel workbooks  ( including VBA ) Prepare ... <a href=\"https://www.timesjobs.com/job-detail/data-scientist-analytics-vidhya-gurgaon-3-to-5-yrs-jobid-TlT0NWDfbJVzpSvf__PLUS__uAgZw==&amp;source=srp\" target=\"_blank\">More Details</a>\n",
       " </li>\n",
       " <li>\n",
       " <label>KeySkills:</label>\n",
       " <span class=\"srp-skills\">\n",
       "       \n",
       "           it tools  ,  tableau  ,  java  ,  vba  ,  <strong class=\"blkclor\">data</strong> <strong class=\"blkclor\">scientist</strong>  ,  statistical modeling  ,  visual basic\n",
       "         \n",
       "       </span> </li>\n",
       " <!--\n",
       "             <li>\n",
       "               <i class=\"material-icons\">location_on</i>\n",
       "               Gurgaon\n",
       "               </li>\n",
       " -->\n",
       " </ul>\n",
       " <div class=\"list-job-bt clearfix\">\n",
       " <div class=\"list-action\">\n",
       " <div class=\"applied-dtl clearfix\" id=\"showPostApplyData_65519242\">\n",
       " <a class=\"waves-effect waves-light btn\" href=\"javascript:callExtJobApply('65519242','adId=TlT0NWDfbJVzpSvf__PLUS__uAgZw==&amp;compName=Career Progress Consultants','TJPFSRP');\" onclick=\"trackClickEvent('View_AND_Apply_SRP','from_srp_externalJobs');logViewUSBT('apply','65519242','it tools  ,  tableau  ,  java  ,  vba  ,  data scientist  ,  statistical modeling  ,  visual basic','Gurgaon','3 - 5','IT Software : Software Products &amp; Services','16')\">Apply</a>\n",
       " <span class=\"jobs-status clearfix\">\n",
       " <!--\n",
       " -->\n",
       " </span>\n",
       " <span class=\"sim-posted\">\n",
       " <span>Posted few days ago</span>\n",
       " </span>\n",
       " </div>\n",
       " </div>\n",
       " </div>\n",
       " </li>,\n",
       " <li class=\"clearfix job-bx wht-shd-bx\">\n",
       " <header class=\"clearfix\">\n",
       " <!--\n",
       " -->\n",
       " <!-- -->\n",
       " <h2>\n",
       " <a href=\"https://www.timesjobs.com/job-detail/data-scientist-tanda-hr-solutions-chandigarh-1-to-4-yrs-jobid-copZP0siW7hzpSvf__PLUS__uAgZw==&amp;source=srp\" onclick=\"logViewUSBT('view','67528884','visualization  ,  data mining  ,  sql  ,  data science  ,  data scientist  ,  data analytics  ,  data analysis  ,  statistical analysis','Chandigarh','1 - 4','IT Software : Software Products &amp; Services','17' )\" target=\"_blank\">\n",
       " <strong class=\"blkclor\">Data</strong> <strong class=\"blkclor\">Scientist</strong></a> </h2>\n",
       " <h3 class=\"joblist-comp-name\">\n",
       "     TandA HR Solutions\n",
       "     \n",
       "     </h3>\n",
       " </header>\n",
       " <ul class=\"top-jd-dtl clearfix\">\n",
       " <li><i class=\"material-icons\">card_travel</i>1 - 4 yrs</li>\n",
       " <li>\n",
       " <i class=\"material-icons\">location_on</i>\n",
       " <span title=\"Chandigarh\">Chandigarh</span>\n",
       " </li>\n",
       " </ul>\n",
       " <ul class=\"list-job-dtl clearfix\">\n",
       " <li>\n",
       " <label>Job Description:</label>\n",
       " Salary  Upto 10-12 Lac per annumThis role is for data science professionals with 1-4 years experience.What Youll DoThis role will give you endless opportunities to take on new... <a href=\"https://www.timesjobs.com/job-detail/data-scientist-tanda-hr-solutions-chandigarh-1-to-4-yrs-jobid-copZP0siW7hzpSvf__PLUS__uAgZw==&amp;source=srp\" target=\"_blank\">More Details</a>\n",
       " </li>\n",
       " <li>\n",
       " <label>KeySkills:</label>\n",
       " <span class=\"srp-skills\">\n",
       "       \n",
       "           visualization  ,  <strong class=\"blkclor\">data</strong> mining  ,  sql  ,  <strong class=\"blkclor\">data</strong> science  ,  <strong class=\"blkclor\">data</strong> <strong class=\"blkclor\">scientist</strong>  ,  <strong class=\"blkclor\">data</strong> analytics  ,  <strong class=\"blkclor\">data</strong> analysis  ,  statistical analysis\n",
       "         \n",
       "       </span> </li>\n",
       " <!--\n",
       "             <li>\n",
       "               <i class=\"material-icons\">location_on</i>\n",
       "               Chandigarh\n",
       "               </li>\n",
       " -->\n",
       " </ul>\n",
       " <div class=\"list-job-bt clearfix\">\n",
       " <div class=\"list-action\">\n",
       " <div class=\"applied-dtl clearfix\" id=\"showPostApplyData_67528884\">\n",
       " <a class=\"waves-effect waves-light btn\" href=\"javascript:callExtJobApply('67528884','adId=copZP0siW7hzpSvf__PLUS__uAgZw==&amp;compName=Career Progress Consultants','TJPFSRP');\" onclick=\"trackClickEvent('View_AND_Apply_SRP','from_srp_externalJobs');logViewUSBT('apply','67528884','visualization  ,  data mining  ,  sql  ,  data science  ,  data scientist  ,  data analytics  ,  data analysis  ,  statistical analysis','Chandigarh','1 - 4','IT Software : Software Products &amp; Services','17')\">Apply</a>\n",
       " <span class=\"jobs-status clearfix\">\n",
       " <!--\n",
       " -->\n",
       " </span>\n",
       " <span class=\"sim-posted\">\n",
       " <span>Posted few days ago</span>\n",
       " </span>\n",
       " </div>\n",
       " </div>\n",
       " </div>\n",
       " </li>,\n",
       " <li class=\"clearfix job-bx wht-shd-bx\">\n",
       " <header class=\"clearfix\">\n",
       " <!--\n",
       " -->\n",
       " <!--   <span class=\"comp-logo-bg\"> <img src=\"https://static.timesjobs.com/images_cand/tj_images/insider_img/logos/024831.png\" alt=\"HP ENTERPRISE SERVICES\" title=\"HP ENTERPRISE SERVICES\"/> </span> -->\n",
       " <h2>\n",
       " <a href=\"https://www.timesjobs.com/job-detail/data-scientist-hp-enterprise-services-0-to-3-yrs-jobid-Ozgu4YfkNphzpSvf__PLUS__uAgZw==&amp;source=srp\" onclick=\"logViewUSBT('view','67936540','business requirements  ,  data science  ,  data scientist  ,  data visualization  ,  san  ,  mobile  ,  business process','','0 - 3','IT Software : Software Products &amp; Services','18' )\" target=\"_blank\">\n",
       " <strong class=\"blkclor\">Data</strong> <strong class=\"blkclor\">Scientist</strong></a> </h2>\n",
       " <h3 class=\"joblist-comp-name\">\n",
       "     HP ENTERPRISE SERVICES\n",
       "     \n",
       "     </h3>\n",
       " </header>\n",
       " <ul class=\"top-jd-dtl clearfix\">\n",
       " <li><i class=\"material-icons\">card_travel</i>0 - 3 yrs</li>\n",
       " <li>\n",
       " <i class=\"material-icons\">location_on</i>\n",
       " <span title=\"\"></span>\n",
       " </li>\n",
       " </ul>\n",
       " <ul class=\"list-job-dtl clearfix\">\n",
       " <li>\n",
       " <label>Job Description:</label>\n",
       " Hewlett Packard Enterprise  ( HPE )  advances the way people live and work. We bring together curious minds to create breakthrough technology solutions ,  helping our customer... <a href=\"https://www.timesjobs.com/job-detail/data-scientist-hp-enterprise-services-0-to-3-yrs-jobid-Ozgu4YfkNphzpSvf__PLUS__uAgZw==&amp;source=srp\" target=\"_blank\">More Details</a>\n",
       " </li>\n",
       " <li>\n",
       " <label>KeySkills:</label>\n",
       " <span class=\"srp-skills\">\n",
       "       \n",
       "           business requirements  ,  <strong class=\"blkclor\">data</strong> science  ,  <strong class=\"blkclor\">data</strong> <strong class=\"blkclor\">scientist</strong>  ,  <strong class=\"blkclor\">data</strong> visualization  ,  san  ,  mobile  ,  business process\n",
       "         \n",
       "       </span> </li>\n",
       " <!--\n",
       "             <li>\n",
       "               <i class=\"material-icons\">location_on</i>\n",
       "               \n",
       "               </li>\n",
       " -->\n",
       " </ul>\n",
       " <div class=\"list-job-bt clearfix\">\n",
       " <div class=\"list-action\">\n",
       " <div class=\"applied-dtl clearfix\" id=\"showPostApplyData_67936540\">\n",
       " <a class=\"waves-effect waves-light btn\" href=\"javascript:callExtJobApply('67936540','adId=Ozgu4YfkNphzpSvf__PLUS__uAgZw==&amp;compName=Career Progress Consultants','TJPFSRP');\" onclick=\"trackClickEvent('View_AND_Apply_SRP','from_srp_externalJobs');logViewUSBT('apply','67936540','business requirements  ,  data science  ,  data scientist  ,  data visualization  ,  san  ,  mobile  ,  business process','','0 - 3','IT Software : Software Products &amp; Services','18')\">Apply</a>\n",
       " <span class=\"jobs-status clearfix\">\n",
       " <!--\n",
       " -->\n",
       " </span>\n",
       " <span class=\"sim-posted\">\n",
       " <span>Posted few days ago</span>\n",
       " </span>\n",
       " </div>\n",
       " </div>\n",
       " </div>\n",
       " </li>,\n",
       " <li class=\"clearfix job-bx wht-shd-bx\">\n",
       " <header class=\"clearfix\">\n",
       " <!--\n",
       " -->\n",
       " <!-- -->\n",
       " <h2>\n",
       " <a href=\"https://www.timesjobs.com/job-detail/data-scientist-analytics-vidhya-mumbai-chennai-3-to-5-yrs-jobid-0LFSIkJaFBpzpSvf__PLUS__uAgZw==&amp;source=srp\" onclick=\"logViewUSBT('view','65519104','visualization  ,  dashboards  ,  data extraction  ,  data science  ,  data scientist  ,  data visualization  ,  data analysis','Mumbai,  Chennai','3 - 5','IT Software : Software Products &amp; Services','19' )\" target=\"_blank\">\n",
       " <strong class=\"blkclor\">Data</strong> <strong class=\"blkclor\">Scientist</strong></a> </h2>\n",
       " <h3 class=\"joblist-comp-name\">\n",
       "     Analytics Vidhya\n",
       "     \n",
       "     </h3>\n",
       " </header>\n",
       " <ul class=\"top-jd-dtl clearfix\">\n",
       " <li><i class=\"material-icons\">card_travel</i>3 - 5 yrs</li>\n",
       " <li>\n",
       " <i class=\"material-icons\">location_on</i>\n",
       " <span title=\"Mumbai,  Chennai\">Mumbai,  Chennai</span>\n",
       " </li>\n",
       " </ul>\n",
       " <ul class=\"list-job-dtl clearfix\">\n",
       " <li>\n",
       " <label>Job Description:</label>\n",
       " The ideal candidate would3-5 years of professional experience handling and processing large datasets and feature engineeringPossess excellent knowledge of at least one scripti... <a href=\"https://www.timesjobs.com/job-detail/data-scientist-analytics-vidhya-mumbai-chennai-3-to-5-yrs-jobid-0LFSIkJaFBpzpSvf__PLUS__uAgZw==&amp;source=srp\" target=\"_blank\">More Details</a>\n",
       " </li>\n",
       " <li>\n",
       " <label>KeySkills:</label>\n",
       " <span class=\"srp-skills\">\n",
       "       \n",
       "           visualization  ,  dashboards  ,  <strong class=\"blkclor\">data</strong> extraction  ,  <strong class=\"blkclor\">data</strong> science  ,  <strong class=\"blkclor\">data</strong> <strong class=\"blkclor\">scientist</strong>  ,  <strong class=\"blkclor\">data</strong> visualization  ,  <strong class=\"blkclor\">data</strong> analysis\n",
       "         \n",
       "       </span> </li>\n",
       " <!--\n",
       "             <li>\n",
       "               <i class=\"material-icons\">location_on</i>\n",
       "               Mumbai,  Chennai\n",
       "               </li>\n",
       " -->\n",
       " </ul>\n",
       " <div class=\"list-job-bt clearfix\">\n",
       " <div class=\"list-action\">\n",
       " <div class=\"applied-dtl clearfix\" id=\"showPostApplyData_65519104\">\n",
       " <a class=\"waves-effect waves-light btn\" href=\"javascript:callExtJobApply('65519104','adId=0LFSIkJaFBpzpSvf__PLUS__uAgZw==&amp;compName=Career Progress Consultants','TJPFSRP');\" onclick=\"trackClickEvent('View_AND_Apply_SRP','from_srp_externalJobs');logViewUSBT('apply','65519104','visualization  ,  dashboards  ,  data extraction  ,  data science  ,  data scientist  ,  data visualization  ,  data analysis','Mumbai,  Chennai','3 - 5','IT Software : Software Products &amp; Services','19')\">Apply</a>\n",
       " <span class=\"jobs-status clearfix\">\n",
       " <!--\n",
       " -->\n",
       " </span>\n",
       " <span class=\"sim-posted\">\n",
       " <span>Posted few days ago</span>\n",
       " </span>\n",
       " </div>\n",
       " </div>\n",
       " </div>\n",
       " </li>,\n",
       " <li class=\"clearfix job-bx wht-shd-bx\">\n",
       " <header class=\"clearfix\">\n",
       " <!--\n",
       " -->\n",
       " <!-- -->\n",
       " <h2>\n",
       " <a href=\"https://www.timesjobs.com/job-detail/data-scientist-datagrid-solutions-mumbai-5-to-6-yrs-jobid-UaZyRIiSYbhzpSvf__PLUS__uAgZw==&amp;source=srp\" onclick=\"logViewUSBT('view','66707995','data analysis  ,  linear regression  ,  ensemble  ,  tableau  ,  data science  ,  data scientist  ,  data visualization','Mumbai','5 - 6','IT Software : Software Products &amp; Services','20' )\" target=\"_blank\">\n",
       " <strong class=\"blkclor\">Data</strong> <strong class=\"blkclor\">Scientist</strong></a> </h2>\n",
       " <h3 class=\"joblist-comp-name\">\n",
       "     Datagrid Solutions\n",
       "     \n",
       "     </h3>\n",
       " </header>\n",
       " <ul class=\"top-jd-dtl clearfix\">\n",
       " <li><i class=\"material-icons\">card_travel</i>5 - 6 yrs</li>\n",
       " <li>\n",
       " <i class=\"material-icons\">location_on</i>\n",
       " <span title=\"Mumbai\">Mumbai</span>\n",
       " </li>\n",
       " </ul>\n",
       " <ul class=\"list-job-dtl clearfix\">\n",
       " <li>\n",
       " <label>Job Description:</label>\n",
       " Analyze large amounts of information to discover trends and patternsBuild predictive models and machine-learning algorithms.combine models through ensemble modellingPresent in... <a href=\"https://www.timesjobs.com/job-detail/data-scientist-datagrid-solutions-mumbai-5-to-6-yrs-jobid-UaZyRIiSYbhzpSvf__PLUS__uAgZw==&amp;source=srp\" target=\"_blank\">More Details</a>\n",
       " </li>\n",
       " <li>\n",
       " <label>KeySkills:</label>\n",
       " <span class=\"srp-skills\">\n",
       " <strong class=\"blkclor\">data</strong> analysis  ,  linear regression  ,  ensemble  ,  tableau  ,  <strong class=\"blkclor\">data</strong> science  ,  <strong class=\"blkclor\">data</strong> <strong class=\"blkclor\">scientist</strong>  ,  <strong class=\"blkclor\">data</strong> visualization\n",
       "         \n",
       "       </span> </li>\n",
       " <!--\n",
       "             <li>\n",
       "               <i class=\"material-icons\">location_on</i>\n",
       "               Mumbai\n",
       "               </li>\n",
       " -->\n",
       " </ul>\n",
       " <div class=\"list-job-bt clearfix\">\n",
       " <div class=\"list-action\">\n",
       " <div class=\"applied-dtl clearfix\" id=\"showPostApplyData_66707995\">\n",
       " <a class=\"waves-effect waves-light btn\" href=\"javascript:callExtJobApply('66707995','adId=UaZyRIiSYbhzpSvf__PLUS__uAgZw==&amp;compName=Career Progress Consultants','TJPFSRP');\" onclick=\"trackClickEvent('View_AND_Apply_SRP','from_srp_externalJobs');logViewUSBT('apply','66707995','data analysis  ,  linear regression  ,  ensemble  ,  tableau  ,  data science  ,  data scientist  ,  data visualization','Mumbai','5 - 6','IT Software : Software Products &amp; Services','20')\">Apply</a>\n",
       " <span class=\"jobs-status clearfix\">\n",
       " <!--\n",
       " -->\n",
       " </span>\n",
       " <span class=\"sim-posted\">\n",
       " <span>Posted few days ago</span>\n",
       " </span>\n",
       " </div>\n",
       " </div>\n",
       " </div>\n",
       " </li>,\n",
       " <li class=\"clearfix job-bx wht-shd-bx\">\n",
       " <header class=\"clearfix\">\n",
       " <!--\n",
       " -->\n",
       " <!--   <span class=\"comp-logo-bg\"> <img src=\"https://static.timesjobs.com/images_cand/tj_images/insider_img/logos/045877.png\" alt=\"Kantar\" title=\"Kantar\"/> </span> -->\n",
       " <h2>\n",
       " <a href=\"https://www.timesjobs.com/job-detail/data-scientist-kantar-2-to-3-yrs-jobid-uORCYpIw8N1zpSvf__PLUS__uAgZw==&amp;source=srp\" onclick=\"logViewUSBT('view','67377725','visualization  ,  data science  ,  data scientist  ,  data analysis  ,  director  ,  consulting  ,  mobile  ,  algorithm development','','2 - 3','IT Software : Software Products &amp; Services','21' )\" target=\"_blank\">\n",
       " <strong class=\"blkclor\">Data</strong> <strong class=\"blkclor\">Scientist</strong></a> </h2>\n",
       " <h3 class=\"joblist-comp-name\">\n",
       "     Kantar\n",
       "     \n",
       "     </h3>\n",
       " </header>\n",
       " <ul class=\"top-jd-dtl clearfix\">\n",
       " <li><i class=\"material-icons\">card_travel</i>2 - 3 yrs</li>\n",
       " <li>\n",
       " <i class=\"material-icons\">location_on</i>\n",
       " <span title=\"\"></span>\n",
       " </li>\n",
       " </ul>\n",
       " <ul class=\"list-job-dtl clearfix\">\n",
       " <li>\n",
       " <label>Job Description:</label>\n",
       " Job Details The Research and Data Science Team provides mathematical ,  statistical ,  research and technical expertise ,  support ,  oversight ,  and methodological developme... <a href=\"https://www.timesjobs.com/job-detail/data-scientist-kantar-2-to-3-yrs-jobid-uORCYpIw8N1zpSvf__PLUS__uAgZw==&amp;source=srp\" target=\"_blank\">More Details</a>\n",
       " </li>\n",
       " <li>\n",
       " <label>KeySkills:</label>\n",
       " <span class=\"srp-skills\">\n",
       "       \n",
       "           visualization  ,  <strong class=\"blkclor\">data</strong> science  ,  <strong class=\"blkclor\">data</strong> <strong class=\"blkclor\">scientist</strong>  ,  <strong class=\"blkclor\">data</strong> analysis  ,  director  ,  consulting  ,  mobile  ,  algorithm development\n",
       "         \n",
       "       </span> </li>\n",
       " <!--\n",
       "             <li>\n",
       "               <i class=\"material-icons\">location_on</i>\n",
       "               \n",
       "               </li>\n",
       " -->\n",
       " </ul>\n",
       " <div class=\"list-job-bt clearfix\">\n",
       " <div class=\"list-action\">\n",
       " <div class=\"applied-dtl clearfix\" id=\"showPostApplyData_67377725\">\n",
       " <a class=\"waves-effect waves-light btn\" href=\"javascript:callExtJobApply('67377725','adId=uORCYpIw8N1zpSvf__PLUS__uAgZw==&amp;compName=Career Progress Consultants','TJPFSRP');\" onclick=\"trackClickEvent('View_AND_Apply_SRP','from_srp_externalJobs');logViewUSBT('apply','67377725','visualization  ,  data science  ,  data scientist  ,  data analysis  ,  director  ,  consulting  ,  mobile  ,  algorithm development','','2 - 3','IT Software : Software Products &amp; Services','21')\">Apply</a>\n",
       " <span class=\"jobs-status clearfix\">\n",
       " <!--\n",
       " -->\n",
       " </span>\n",
       " <span class=\"sim-posted\">\n",
       " <span>Posted few days ago</span>\n",
       " </span>\n",
       " </div>\n",
       " </div>\n",
       " </div>\n",
       " </li>,\n",
       " <li class=\"clearfix job-bx wht-shd-bx\">\n",
       " <header class=\"clearfix\">\n",
       " <!--\n",
       " -->\n",
       " <!--   <span class=\"comp-logo-bg\"> <img src=\"https://static.timesjobs.com/images_cand/tj_images/insider_img/logos/013084.png\" alt=\"EXPEDIA\" title=\"EXPEDIA\"/> </span> -->\n",
       " <h2>\n",
       " <a href=\"https://www.timesjobs.com/job-detail/data-scientist-expedia-washington-dc-5-to-8-yrs-jobid-X4K6hTzgxHtzpSvf__PLUS__uAgZw==&amp;source=srp\" onclick=\"logViewUSBT('view','68238666','visualization  ,  data mining  ,  sql  ,  security  ,  data scientist  ,  data visualization  ,  data analytics  ,  tableau  ,  statistical analysis','Washington DC','5 - 8','IT Software : Software Products &amp; Services','22' )\" target=\"_blank\">\n",
       " <strong class=\"blkclor\">Data</strong> <strong class=\"blkclor\">Scientist</strong></a> </h2>\n",
       " <h3 class=\"joblist-comp-name\">\n",
       "     EXPEDIA\n",
       "     \n",
       "     </h3>\n",
       " </header>\n",
       " <ul class=\"top-jd-dtl clearfix\">\n",
       " <li><i class=\"material-icons\">card_travel</i>5 - 8 yrs</li>\n",
       " <li>\n",
       " <i class=\"material-icons\">location_on</i>\n",
       " <span title=\"Washington DC\">Washington DC</span>\n",
       " </li>\n",
       " </ul>\n",
       " <ul class=\"list-job-dtl clearfix\">\n",
       " <li>\n",
       " <label>Job Description:</label>\n",
       " Data Scientist III ,  AnalyticsWashington - Seattle CampusData Scientist III ,  AnalyticsWhat youll do:Provide strategic analysis and insights for the InsurTech business ,  wh... <a href=\"https://www.timesjobs.com/job-detail/data-scientist-expedia-washington-dc-5-to-8-yrs-jobid-X4K6hTzgxHtzpSvf__PLUS__uAgZw==&amp;source=srp\" target=\"_blank\">More Details</a>\n",
       " </li>\n",
       " <li>\n",
       " <label>KeySkills:</label>\n",
       " <span class=\"srp-skills\">\n",
       "       \n",
       "           visualization  ,  <strong class=\"blkclor\">data</strong> mining  ,  sql  ,  security  ,  <strong class=\"blkclor\">data</strong> <strong class=\"blkclor\">scientist</strong>  ,  <strong class=\"blkclor\">data</strong> visualization  ,  <strong class=\"blkclor\">data</strong> analytics  ,  tableau  ,  statistical analysis\n",
       "         \n",
       "       </span> </li>\n",
       " <!--\n",
       "             <li>\n",
       "               <i class=\"material-icons\">location_on</i>\n",
       "               Washington DC\n",
       "               </li>\n",
       " -->\n",
       " </ul>\n",
       " <div class=\"list-job-bt clearfix\">\n",
       " <div class=\"list-action\">\n",
       " <div class=\"applied-dtl clearfix\" id=\"showPostApplyData_68238666\">\n",
       " <a class=\"waves-effect waves-light btn\" href=\"javascript:callExtJobApply('68238666','adId=X4K6hTzgxHtzpSvf__PLUS__uAgZw==&amp;compName=Career Progress Consultants','TJPFSRP');\" onclick=\"trackClickEvent('View_AND_Apply_SRP','from_srp_externalJobs');logViewUSBT('apply','68238666','visualization  ,  data mining  ,  sql  ,  security  ,  data scientist  ,  data visualization  ,  data analytics  ,  tableau  ,  statistical analysis','Washington DC','5 - 8','IT Software : Software Products &amp; Services','22')\">Apply</a>\n",
       " <span class=\"jobs-status clearfix\">\n",
       " <!--\n",
       " -->\n",
       " </span>\n",
       " <span class=\"sim-posted\">\n",
       " <span>Posted few days ago</span>\n",
       " </span>\n",
       " </div>\n",
       " </div>\n",
       " </div>\n",
       " </li>,\n",
       " <li class=\"clearfix job-bx wht-shd-bx\">\n",
       " <header class=\"clearfix\">\n",
       " <!--\n",
       " -->\n",
       " <!--   <span class=\"comp-logo-bg\"> <img src=\"https://static.timesjobs.com/images_cand/tj_images/insider_img/logos/013412.png\" alt=\"AUTODESK\" title=\"AUTODESK\"/> </span> -->\n",
       " <h2>\n",
       " <a href=\"https://www.timesjobs.com/job-detail/data-scientist-autodesk-bengaluru-bangalore-2-to-3-yrs-jobid-__SLASH____SLASH__oXSv6S479zpSvf__PLUS__uAgZw==&amp;source=srp\" onclick=\"logViewUSBT('view','67899933','technology operations  ,  dashboards  ,  sql  ,  data science  ,  data scientist  ,  data analysis  ,  business analytics  ,  consultant  ,  data cleaning','Bengaluru / Bangalore','2 - 3','IT Software : Software Products &amp; Services','23' )\" target=\"_blank\">\n",
       " <strong class=\"blkclor\">Data</strong> <strong class=\"blkclor\">Scientist</strong></a> </h2>\n",
       " <h3 class=\"joblist-comp-name\">\n",
       "     AUTODESK\n",
       "     \n",
       "     </h3>\n",
       " </header>\n",
       " <ul class=\"top-jd-dtl clearfix\">\n",
       " <li><i class=\"material-icons\">card_travel</i>2 - 3 yrs</li>\n",
       " <li>\n",
       " <i class=\"material-icons\">location_on</i>\n",
       " <span title=\"Bengaluru / Bangalore\">Bengaluru / Bangalore</span>\n",
       " </li>\n",
       " </ul>\n",
       " <ul class=\"list-job-dtl clearfix\">\n",
       " <li>\n",
       " <label>Job Description:</label>\n",
       " Perform analysis on large datasets and produce qualitative visualizations based on reporting requirementsDevelop analytical solutions and dashboards that integrate data from a... <a href=\"https://www.timesjobs.com/job-detail/data-scientist-autodesk-bengaluru-bangalore-2-to-3-yrs-jobid-__SLASH____SLASH__oXSv6S479zpSvf__PLUS__uAgZw==&amp;source=srp\" target=\"_blank\">More Details</a>\n",
       " </li>\n",
       " <li>\n",
       " <label>KeySkills:</label>\n",
       " <span class=\"srp-skills\">\n",
       "       \n",
       "           technology operations  ,  dashboards  ,  sql  ,  <strong class=\"blkclor\">data</strong> science  ,  <strong class=\"blkclor\">data</strong> <strong class=\"blkclor\">scientist</strong>  ,  <strong class=\"blkclor\">data</strong> analysis  ,  business analytics  ,  consultant  ,  <strong class=\"blkclor\">data</strong> cleaning\n",
       "         \n",
       "       </span> </li>\n",
       " <!--\n",
       "             <li>\n",
       "               <i class=\"material-icons\">location_on</i>\n",
       "               Bengaluru / Bangalore\n",
       "               </li>\n",
       " -->\n",
       " </ul>\n",
       " <div class=\"list-job-bt clearfix\">\n",
       " <div class=\"list-action\">\n",
       " <div class=\"applied-dtl clearfix\" id=\"showPostApplyData_67899933\">\n",
       " <a class=\"waves-effect waves-light btn\" href=\"javascript:callExtJobApply('67899933','adId=__SLASH____SLASH__oXSv6S479zpSvf__PLUS__uAgZw==&amp;compName=Career Progress Consultants','TJPFSRP');\" onclick=\"trackClickEvent('View_AND_Apply_SRP','from_srp_externalJobs');logViewUSBT('apply','67899933','technology operations  ,  dashboards  ,  sql  ,  data science  ,  data scientist  ,  data analysis  ,  business analytics  ,  consultant  ,  data cleaning','Bengaluru / Bangalore','2 - 3','IT Software : Software Products &amp; Services','23')\">Apply</a>\n",
       " <span class=\"jobs-status clearfix\">\n",
       " <!--\n",
       " -->\n",
       " </span>\n",
       " <span class=\"sim-posted\">\n",
       " <span>Posted few days ago</span>\n",
       " </span>\n",
       " </div>\n",
       " </div>\n",
       " </div>\n",
       " </li>,\n",
       " <li class=\"clearfix job-bx wht-shd-bx\">\n",
       " <header class=\"clearfix\">\n",
       " <!--\n",
       " -->\n",
       " <!--   <span class=\"comp-logo-bg\"> <img src=\"https://static.timesjobs.com/images_cand/tj_images/insider_img/logos/001831.gif\" alt=\"Tanla Solutions Ltd\" title=\"Tanla Solutions Ltd\"/> </span> -->\n",
       " <h2>\n",
       " <a href=\"https://www.timesjobs.com/job-detail/data-scientist-tanla-solutions-ltd-hyderabad-secunderabad-4-to-7-yrs-jobid-fNcjog3MMSlzpSvf__PLUS__uAgZw==&amp;source=srp\" onclick=\"logViewUSBT('view','67852133','data analytics  ,  data analysis  ,  business analytics  ,  delivery management  ,  data cleaning  ,  data scientist  ,  text mining','Hyderabad/Secunderabad','4 - 7','IT Software : Software Products &amp; Services','24' )\" target=\"_blank\">\n",
       " <strong class=\"blkclor\">Data</strong> <strong class=\"blkclor\">Scientist</strong></a> </h2>\n",
       " <h3 class=\"joblist-comp-name\">\n",
       "     Tanla Solutions Ltd\n",
       "     \n",
       "     </h3>\n",
       " </header>\n",
       " <ul class=\"top-jd-dtl clearfix\">\n",
       " <li><i class=\"material-icons\">card_travel</i>4 - 7 yrs</li>\n",
       " <li>\n",
       " <i class=\"material-icons\">location_on</i>\n",
       " <span title=\"Hyderabad/Secunderabad\">Hyderabad/Secunderabad</span>\n",
       " </li>\n",
       " </ul>\n",
       " <ul class=\"list-job-dtl clearfix\">\n",
       " <li>\n",
       " <label>Job Description:</label>\n",
       " Tanla Looking for a Data scientist to work in consumer data analytics team. As a Data Scientist ,  you will hold a highly indispensable analytical role that requires interacti... <a href=\"https://www.timesjobs.com/job-detail/data-scientist-tanla-solutions-ltd-hyderabad-secunderabad-4-to-7-yrs-jobid-fNcjog3MMSlzpSvf__PLUS__uAgZw==&amp;source=srp\" target=\"_blank\">More Details</a>\n",
       " </li>\n",
       " <li>\n",
       " <label>KeySkills:</label>\n",
       " <span class=\"srp-skills\">\n",
       "       \n",
       "           data analytics  ,  data analysis  ,  business analytics  ,  delivery management  ,  data cleaning  ,  data scientist  ,  text mining\n",
       "         \n",
       "       </span> </li>\n",
       " <!--\n",
       "             <li>\n",
       "               <i class=\"material-icons\">location_on</i>\n",
       "               Hyderabad/Secunderabad\n",
       "               </li>\n",
       " -->\n",
       " </ul>\n",
       " <div class=\"list-job-bt clearfix\">\n",
       " <div class=\"list-action\">\n",
       " <div class=\"applied-dtl clearfix\" id=\"showPostApplyData_67852133\">\n",
       " <a class=\"waves-effect waves-light btn\" href=\"javascript:callExtJobApply('67852133','adId=fNcjog3MMSlzpSvf__PLUS__uAgZw==&amp;compName=Career Progress Consultants','TJPFSRP');\" onclick=\"trackClickEvent('View_AND_Apply_SRP','from_srp_externalJobs');logViewUSBT('apply','67852133','data analytics  ,  data analysis  ,  business analytics  ,  delivery management  ,  data cleaning  ,  data scientist  ,  text mining','Hyderabad/Secunderabad','4 - 7','IT Software : Software Products &amp; Services','24')\">Apply</a>\n",
       " <span class=\"jobs-status clearfix\">\n",
       " <!--\n",
       "        <i class=\"material-icons trnding-up\" title=\"Recently posted job, Recruiter is actively looking for candidates\">check_circle</i>\n",
       "         \n",
       " -->\n",
       " </span>\n",
       " <span class=\"sim-posted\">\n",
       " <span>Posted 5 days ago</span>\n",
       " </span>\n",
       " </div>\n",
       " </div>\n",
       " </div>\n",
       " </li>,\n",
       " <li class=\"clearfix job-bx wht-shd-bx\">\n",
       " <header class=\"clearfix\">\n",
       " <!--\n",
       " -->\n",
       " <!-- -->\n",
       " <h2>\n",
       " <a href=\"https://www.timesjobs.com/job-detail/data-scientist-klevu-oy-bengaluru-bangalore-3-to-6-yrs-jobid-LcgmhsFXEMBzpSvf__PLUS__uAgZw==&amp;source=srp\" onclick=\"logViewUSBT('view','68182893','data analysis  ,  bi  ,  data analyst  ,  sql  ,  use cases  ,  predictive modeling  ,  data scientist  ,  statistical modeling','Bengaluru / Bangalore','3 - 6','IT Software : Software Products &amp; Services','25' )\" target=\"_blank\">\n",
       " <strong class=\"blkclor\">Data</strong> <strong class=\"blkclor\">Scientist</strong></a> </h2>\n",
       " <h3 class=\"joblist-comp-name\">\n",
       "     klevu oy\n",
       "     \n",
       "     </h3>\n",
       " </header>\n",
       " <ul class=\"top-jd-dtl clearfix\">\n",
       " <li><i class=\"material-icons\">card_travel</i>3 - 6 yrs</li>\n",
       " <li>\n",
       " <i class=\"material-icons\">location_on</i>\n",
       " <span title=\"Bengaluru / Bangalore\">Bengaluru / Bangalore</span>\n",
       " </li>\n",
       " </ul>\n",
       " <ul class=\"list-job-dtl clearfix\">\n",
       " <li>\n",
       " <label>Job Description:</label>\n",
       " About Klevu Klevu is a discovery experience suite that revolutionises online shopping. It provides a range of SaaS based solutions ,  that are deep rooted in AI-ML technology ... <a href=\"https://www.timesjobs.com/job-detail/data-scientist-klevu-oy-bengaluru-bangalore-3-to-6-yrs-jobid-LcgmhsFXEMBzpSvf__PLUS__uAgZw==&amp;source=srp\" target=\"_blank\">More Details</a>\n",
       " </li>\n",
       " <li>\n",
       " <label>KeySkills:</label>\n",
       " <span class=\"srp-skills\">\n",
       " <strong class=\"blkclor\">data</strong> analysis  ,  bi  ,  <strong class=\"blkclor\">data</strong> analyst  ,  sql  ,  use cases  ,  predictive modeling  ,  <strong class=\"blkclor\">data</strong> <strong class=\"blkclor\">scientist</strong>  ,  statistical modeling\n",
       "         \n",
       "       </span> </li>\n",
       " <!--\n",
       "             <li>\n",
       "               <i class=\"material-icons\">location_on</i>\n",
       "               Bengaluru / Bangalore\n",
       "               </li>\n",
       " -->\n",
       " </ul>\n",
       " <div class=\"list-job-bt clearfix\">\n",
       " <div class=\"list-action\">\n",
       " <div class=\"applied-dtl clearfix\" id=\"showPostApplyData_68182893\">\n",
       " <a class=\"waves-effect waves-light btn\" href=\"javascript:callExtJobApply('68182893','adId=LcgmhsFXEMBzpSvf__PLUS__uAgZw==&amp;compName=Career Progress Consultants','TJPFSRP');\" onclick=\"trackClickEvent('View_AND_Apply_SRP','from_srp_externalJobs');logViewUSBT('apply','68182893','data analysis  ,  bi  ,  data analyst  ,  sql  ,  use cases  ,  predictive modeling  ,  data scientist  ,  statistical modeling','Bengaluru / Bangalore','3 - 6','IT Software : Software Products &amp; Services','25')\">Apply</a>\n",
       " <span class=\"jobs-status clearfix\">\n",
       " <!--\n",
       " -->\n",
       " </span>\n",
       " <span class=\"sim-posted\">\n",
       " <span>Posted 3 days ago</span>\n",
       " </span>\n",
       " </div>\n",
       " </div>\n",
       " </div>\n",
       " </li>]"
      ]
     },
     "execution_count": 6,
     "metadata": {},
     "output_type": "execute_result"
    }
   ],
   "source": [
    "for pro in project:\n",
    "    comp = pro.find('h3', class_ = 'joblist-comp-name').text.replace('',\")\n",
    "    skills = pro.find('')"
   ]
  },
  {
   "cell_type": "code",
   "execution_count": null,
   "id": "0757d6ae",
   "metadata": {},
   "outputs": [],
   "source": []
  }
 ],
 "metadata": {
  "kernelspec": {
   "display_name": "Python 3 (ipykernel)",
   "language": "python",
   "name": "python3"
  },
  "language_info": {
   "codemirror_mode": {
    "name": "ipython",
    "version": 3
   },
   "file_extension": ".py",
   "mimetype": "text/x-python",
   "name": "python",
   "nbconvert_exporter": "python",
   "pygments_lexer": "ipython3",
   "version": "3.9.7"
  }
 },
 "nbformat": 4,
 "nbformat_minor": 5
}
