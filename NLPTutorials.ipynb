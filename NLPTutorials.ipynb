{
 "cells": [
  {
   "cell_type": "code",
   "execution_count": 1,
   "id": "6ea56a61",
   "metadata": {},
   "outputs": [
    {
     "name": "stdout",
     "output_type": "stream",
     "text": [
      "Defaulting to user installation because normal site-packages is not writeable\n",
      "Requirement already satisfied: nltk in /home/cdot/.local/lib/python3.10/site-packages (3.8.1)\n",
      "Requirement already satisfied: regex>=2021.8.3 in /home/cdot/.local/lib/python3.10/site-packages (from nltk) (2023.6.3)\n",
      "Requirement already satisfied: joblib in /home/cdot/.local/lib/python3.10/site-packages (from nltk) (1.2.0)\n",
      "Requirement already satisfied: tqdm in /home/cdot/.local/lib/python3.10/site-packages (from nltk) (4.65.0)\n",
      "Requirement already satisfied: click in /home/cdot/.local/lib/python3.10/site-packages (from nltk) (8.1.3)\n",
      "Note: you may need to restart the kernel to use updated packages.\n"
     ]
    }
   ],
   "source": [
    "pip install nltk"
   ]
  },
  {
   "cell_type": "code",
   "execution_count": 2,
   "id": "9e154e22",
   "metadata": {},
   "outputs": [],
   "source": [
    "import nltk\n",
    "from nltk import word_tokenize, sent_tokenize"
   ]
  },
  {
   "cell_type": "code",
   "execution_count": null,
   "id": "80ff907a",
   "metadata": {},
   "outputs": [],
   "source": []
  },
  {
   "cell_type": "code",
   "execution_count": 3,
   "id": "759a91ac",
   "metadata": {},
   "outputs": [
    {
     "name": "stderr",
     "output_type": "stream",
     "text": [
      "[nltk_data] Downloading package punkt to /home/cdot/nltk_data...\n",
      "[nltk_data]   Package punkt is already up-to-date!\n"
     ]
    },
    {
     "data": {
      "text/plain": [
       "True"
      ]
     },
     "execution_count": 3,
     "metadata": {},
     "output_type": "execute_result"
    }
   ],
   "source": [
    "nltk.download('punkt')"
   ]
  },
  {
   "cell_type": "code",
   "execution_count": 4,
   "id": "c7c9c4c3",
   "metadata": {},
   "outputs": [],
   "source": [
    "txt = \"Klingon is the most developed fictional language. It was created in 1979 as the language spoken by the warrior race Klingon in the TV show Star Trek. The linguist Mark Okrand has created the language to be fully functional, to the point where fans use it to write songs and say their wedding vows.\""
   ]
  },
  {
   "cell_type": "code",
   "execution_count": 5,
   "id": "29c9ec11",
   "metadata": {},
   "outputs": [
    {
     "data": {
      "text/plain": [
       "'Klingon is the most developed fictional language. It was created in 1979 as the language spoken by the warrior race Klingon in the TV show Star Trek. The linguist Mark Okrand has created the language to be fully functional, to the point where fans use it to write songs and say their wedding vows.'"
      ]
     },
     "execution_count": 5,
     "metadata": {},
     "output_type": "execute_result"
    }
   ],
   "source": [
    "txt"
   ]
  },
  {
   "cell_type": "code",
   "execution_count": 6,
   "id": "277d1732",
   "metadata": {},
   "outputs": [
    {
     "name": "stdout",
     "output_type": "stream",
     "text": [
      "3\n"
     ]
    }
   ],
   "source": [
    "# The give text is divided into sentences\n",
    "sent_tokens = sent_tokenize(txt)\n",
    "print(len(sent_tokens))"
   ]
  },
  {
   "cell_type": "code",
   "execution_count": 7,
   "id": "5ce9d690",
   "metadata": {},
   "outputs": [
    {
     "name": "stdout",
     "output_type": "stream",
     "text": [
      "58 3\n"
     ]
    }
   ],
   "source": [
    "doc_word_tokens = word_tokenize(txt)\n",
    "sent_word_tokens = [word_tokenize(t) for t in sent_tokens]\n",
    "print(len(doc_word_tokens), len(sent_word_tokens))"
   ]
  },
  {
   "cell_type": "code",
   "execution_count": 8,
   "id": "afc34420",
   "metadata": {},
   "outputs": [
    {
     "name": "stdout",
     "output_type": "stream",
     "text": [
      "[['Klingon', 'is', 'the', 'most', 'developed', 'fictional', 'language', '.'], ['It', 'was', 'created', 'in', '1979', 'as', 'the', 'language', 'spoken', 'by', 'the', 'warrior', 'race', 'Klingon', 'in', 'the', 'TV', 'show', 'Star', 'Trek', '.'], ['The', 'linguist', 'Mark', 'Okrand', 'has', 'created', 'the', 'language', 'to', 'be', 'fully', 'functional', ',', 'to', 'the', 'point', 'where', 'fans', 'use', 'it', 'to', 'write', 'songs', 'and', 'say', 'their', 'wedding', 'vows', '.']]\n"
     ]
    }
   ],
   "source": [
    "print(sent_word_tokens)"
   ]
  },
  {
   "cell_type": "markdown",
   "id": "36e89dcb",
   "metadata": {},
   "source": [
    "### To find frequency distribution"
   ]
  },
  {
   "cell_type": "code",
   "execution_count": 9,
   "id": "54f4a704",
   "metadata": {},
   "outputs": [],
   "source": [
    "from nltk.probability import FreqDist"
   ]
  },
  {
   "cell_type": "code",
   "execution_count": 10,
   "id": "71036c4c",
   "metadata": {},
   "outputs": [
    {
     "data": {
      "text/plain": [
       "FreqDist({'the': 6, 'language': 3, '.': 3, 'to': 3, 'Klingon': 2, 'created': 2, 'in': 2, 'is': 1, 'most': 1, 'developed': 1, ...})"
      ]
     },
     "execution_count": 10,
     "metadata": {},
     "output_type": "execute_result"
    }
   ],
   "source": [
    "fdist = FreqDist(doc_word_tokens)\n",
    "fdist"
   ]
  },
  {
   "cell_type": "code",
   "execution_count": 11,
   "id": "e137321f",
   "metadata": {},
   "outputs": [
    {
     "data": {
      "text/plain": [
       "[('the', 6),\n",
       " ('language', 3),\n",
       " ('.', 3),\n",
       " ('to', 3),\n",
       " ('Klingon', 2),\n",
       " ('created', 2),\n",
       " ('in', 2),\n",
       " ('is', 1),\n",
       " ('most', 1),\n",
       " ('developed', 1)]"
      ]
     },
     "execution_count": 11,
     "metadata": {},
     "output_type": "execute_result"
    }
   ],
   "source": [
    "fdist.most_common(10)"
   ]
  },
  {
   "cell_type": "markdown",
   "id": "a9685a04",
   "metadata": {},
   "source": [
    "### create plot for frequency"
   ]
  },
  {
   "cell_type": "code",
   "execution_count": 12,
   "id": "4694580f",
   "metadata": {},
   "outputs": [],
   "source": [
    "import matplotlib.pyplot as plt"
   ]
  },
  {
   "cell_type": "code",
   "execution_count": 13,
   "id": "0b5f9686",
   "metadata": {},
   "outputs": [
    {
     "data": {
      "image/png": "[encoded data removed]",
      "text/plain": [
       "<Figure size 640x480 with 1 Axes>"
      ]
     },
     "metadata": {},
     "output_type": "display_data"
    },
    {
     "data": {
      "text/plain": [
       "<AxesSubplot:xlabel='Samples', ylabel='Counts'>"
      ]
     },
     "execution_count": 13,
     "metadata": {},
     "output_type": "execute_result"
    }
   ],
   "source": [
    "fdist.plot(5)"
   ]
  },
  {
   "cell_type": "markdown",
   "id": "45d92444",
   "metadata": {},
   "source": [
    "### Remove the Punctuation marks in the text"
   ]
  },
  {
   "cell_type": "code",
   "execution_count": 48,
   "id": "7d64349d",
   "metadata": {},
   "outputs": [
    {
     "name": "stdout",
     "output_type": "stream",
     "text": [
      "53 \n",
      " ['klingon', 'is', 'the', 'most', 'developed', 'fictional', 'language', 'it', 'was', 'created', 'in', 'as', 'the', 'language', 'spoken', 'by', 'the', 'warrior', 'race', 'klingon', 'in', 'the', 'tv', 'show', 'star', 'trek', 'the', 'linguist', 'mark', 'okrand', 'has', 'created', 'the', 'language', 'to', 'be', 'fully', 'functional', 'to', 'the', 'point', 'where', 'fans', 'use', 'it', 'to', 'write', 'songs', 'and', 'say', 'their', 'wedding', 'vows']\n"
     ]
    }
   ],
   "source": [
    "# We need to create Empty list to store alphanum values along with all lower case\n",
    "no_punch_words = []\n",
    "for w in doc_word_tokens:\n",
    "    if w.isalpha():\n",
    "        no_punch_words.append(w.lower())\n",
    "        \n",
    "print(len(no_punch_words),'\\n',no_punch_words)"
   ]
  },
  {
   "cell_type": "code",
   "execution_count": 49,
   "id": "456791da",
   "metadata": {},
   "outputs": [
    {
     "data": {
      "text/plain": [
       "[('the', 7), ('language', 3), ('to', 3), ('klingon', 2), ('it', 2)]"
      ]
     },
     "execution_count": 49,
     "metadata": {},
     "output_type": "execute_result"
    }
   ],
   "source": [
    "fpdist = FreqDist(no_punch_words)\n",
    "fpdist.most_common(5)"
   ]
  },
  {
   "cell_type": "code",
   "execution_count": 50,
   "id": "5e8e4fc7",
   "metadata": {},
   "outputs": [
    {
     "data": {
      "image/png": "[encoded data removed]",
      "text/plain": [
       "<Figure size 640x480 with 1 Axes>"
      ]
     },
     "metadata": {},
     "output_type": "display_data"
    },
    {
     "data": {
      "text/plain": [
       "<AxesSubplot:xlabel='Samples', ylabel='Counts'>"
      ]
     },
     "execution_count": 50,
     "metadata": {},
     "output_type": "execute_result"
    }
   ],
   "source": [
    "fpdist.plot(5)"
   ]
  },
  {
   "cell_type": "markdown",
   "id": "2194cf08",
   "metadata": {},
   "source": [
    "### List of stop words in the text"
   ]
  },
  {
   "cell_type": "code",
   "execution_count": 51,
   "id": "51997ee9",
   "metadata": {},
   "outputs": [],
   "source": [
    "from nltk.corpus import stopwords"
   ]
  },
  {
   "cell_type": "code",
   "execution_count": 52,
   "id": "b87c00e2",
   "metadata": {},
   "outputs": [
    {
     "name": "stderr",
     "output_type": "stream",
     "text": [
      "[nltk_data] Downloading package stopwords to /home/cdot/nltk_data...\n",
      "[nltk_data]   Package stopwords is already up-to-date!\n"
     ]
    },
    {
     "data": {
      "text/plain": [
       "True"
      ]
     },
     "execution_count": 52,
     "metadata": {},
     "output_type": "execute_result"
    }
   ],
   "source": [
    "nltk.download('stopwords')"
   ]
  },
  {
   "cell_type": "code",
   "execution_count": 53,
   "id": "4b409795",
   "metadata": {},
   "outputs": [
    {
     "name": "stdout",
     "output_type": "stream",
     "text": [
      "29\n",
      "['klingon', 'developed', 'fictional', 'language', 'created', 'language', 'spoken', 'warrior', 'race', 'klingon', 'tv', 'show', 'star', 'trek', 'linguist', 'mark', 'okrand', 'created', 'language', 'fully', 'functional', 'point', 'fans', 'use', 'write', 'songs', 'say', 'wedding', 'vows']\n"
     ]
    }
   ],
   "source": [
    "sw = stopwords.words('english')\n",
    "\n",
    "# Removing the stopwords\n",
    "clean_words = []\n",
    "for w in no_punch_words:\n",
    "    if w not in sw:\n",
    "        clean_words.append(w)\n",
    "\n",
    "print(len(clean_words))\n",
    "print(clean_words)"
   ]
  },
  {
   "cell_type": "markdown",
   "id": "b9cca6d7",
   "metadata": {},
   "source": [
    "### Find frequency distribution"
   ]
  },
  {
   "cell_type": "code",
   "execution_count": 54,
   "id": "121dc22e",
   "metadata": {},
   "outputs": [
    {
     "data": {
      "text/plain": [
       "[('language', 3),\n",
       " ('klingon', 2),\n",
       " ('created', 2),\n",
       " ('developed', 1),\n",
       " ('fictional', 1)]"
      ]
     },
     "execution_count": 54,
     "metadata": {},
     "output_type": "execute_result"
    }
   ],
   "source": [
    "fcwords = FreqDist(clean_words)\n",
    "fcwords.most_common(5)"
   ]
  },
  {
   "cell_type": "code",
   "execution_count": 55,
   "id": "726c3051",
   "metadata": {},
   "outputs": [
    {
     "data": {
      "image/png": "[encoded data removed]",
      "text/plain": [
       "<Figure size 640x480 with 1 Axes>"
      ]
     },
     "metadata": {},
     "output_type": "display_data"
    },
    {
     "data": {
      "text/plain": [
       "<AxesSubplot:xlabel='Samples', ylabel='Counts'>"
      ]
     },
     "execution_count": 55,
     "metadata": {},
     "output_type": "execute_result"
    }
   ],
   "source": [
    "fcwords.plot(5)"
   ]
  },
  {
   "cell_type": "markdown",
   "id": "a2bd424e",
   "metadata": {},
   "source": [
    "### Word Cloud\n",
    "\n",
    "*Properties*:\n",
    "\n",
    "font_path: It specifies the path for the fonts we want to use.\n",
    "\n",
    "width: It specifies the width of the canvas.\n",
    "\n",
    "height: It specifies the height of the canvas.\n",
    "\n",
    "min_font_size: It specifies the smallest font size to use.\n",
    "\n",
    "max_font_size: It specifies the largest font size to use.\n",
    "\n",
    "font_step: It specifies the step size for the font.\n",
    "\n",
    "max_words: It specifies the maximum number of words on the word cloud.\n",
    "\n",
    "stopwords: Our program will eliminate these words.\n",
    "\n",
    "background_color: It specifies the background color for canvas.\n",
    "\n",
    "normalize_plurals : It removes the trailing “s” from words."
   ]
  },
  {
   "cell_type": "code",
   "execution_count": 56,
   "id": "f2e85e5c",
   "metadata": {},
   "outputs": [
    {
     "name": "stdout",
     "output_type": "stream",
     "text": [
      "Defaulting to user installation because normal site-packages is not writeable\n",
      "Requirement already satisfied: wordcloud in /home/cdot/.local/lib/python3.10/site-packages (1.9.2)\n",
      "Requirement already satisfied: matplotlib in /usr/lib/python3/dist-packages (from wordcloud) (3.5.1)\n",
      "Requirement already satisfied: pillow in /usr/lib/python3/dist-packages (from wordcloud) (9.0.1)\n",
      "Requirement already satisfied: numpy>=1.6.1 in /home/cdot/.local/lib/python3.10/site-packages (from wordcloud) (1.23.5)\n",
      "Note: you may need to restart the kernel to use updated packages.\n"
     ]
    }
   ],
   "source": [
    "pip install wordcloud"
   ]
  },
  {
   "cell_type": "code",
   "execution_count": 79,
   "id": "0d4b7ca2",
   "metadata": {},
   "outputs": [],
   "source": [
    "from nltk.stem import PorterStemmer, SnowballStemmer, WordNetLemmatizer"
   ]
  },
  {
   "cell_type": "code",
   "execution_count": null,
   "id": "f2a79c8a",
   "metadata": {},
   "outputs": [],
   "source": []
  },
  {
   "cell_type": "code",
   "execution_count": 81,
   "id": "066f1b57",
   "metadata": {},
   "outputs": [],
   "source": [
    "# the porter stemmer is not give the dictionary words and it support only english\n",
    "ps = PorterStemmer()\n",
    "# It produces the best output and it has lowest error rate\n",
    "# and reduced words are not always ral words\n",
    "\n",
    "# the Snowballstemmer is same like porterstemmer but it supports many languages\n",
    "sbs = SnowballStemmer('english')\n",
    "\n",
    "# WordNetLemmatizer will give same as dictionary word\n",
    "wnl = WordNetLemmatizer()\n"
   ]
  },
  {
   "cell_type": "markdown",
   "id": "ce11c39b",
   "metadata": {},
   "source": [
    "### Lemmatization\n",
    "\n",
    "Lemmatization tries to achieve a similar base “stem” for a word. \n",
    "#However, what makes it different is that it finds the dictionary word instead of \n",
    "#truncating the original word. Stemming does not consider the context of the word. \n",
    "#That is why it generates results faster, but it is less accurate than lemmatization.\n",
    "#If accuracy is not the project’s final goal, then stemming is an appropriate approach. \n",
    "#If higher accuracy is crucial and the project is not on a tight deadline, \n",
    "#then the best option is amortization (Lemmatization has a lower processing speed, compared to stemming)."
   ]
  },
  {
   "cell_type": "code",
   "execution_count": 69,
   "id": "72d917d7",
   "metadata": {},
   "outputs": [
    {
     "name": "stdout",
     "output_type": "stream",
     "text": [
      "['studying', 'studies', 'study', 'studied']\n",
      "['leaving', 'leave', 'history', 'histories', 'died', 'kernal', 'social', 'playing', 'plays']\n"
     ]
    }
   ],
   "source": [
    "word_list = ['studying', 'studies','study','studied']\n",
    "word_list1 = ['leaving', 'leave', 'history','histories','died','kernal','social','playing','plays']\n",
    "print(word_list)\n",
    "print(word_list1)"
   ]
  },
  {
   "cell_type": "code",
   "execution_count": 70,
   "id": "d291701d",
   "metadata": {},
   "outputs": [
    {
     "name": "stdout",
     "output_type": "stream",
     "text": [
      "studi\n",
      "studi\n",
      "studi\n",
      "studi\n"
     ]
    }
   ],
   "source": [
    "for w in word_list:\n",
    "    print(ps.stem(w))"
   ]
  },
  {
   "cell_type": "code",
   "execution_count": 71,
   "id": "af1f1a62",
   "metadata": {},
   "outputs": [
    {
     "name": "stdout",
     "output_type": "stream",
     "text": [
      "leav\n",
      "leav\n",
      "histori\n",
      "histori\n",
      "die\n",
      "kernal\n",
      "social\n",
      "play\n",
      "play\n"
     ]
    }
   ],
   "source": [
    "for w in word_list1:\n",
    "    print(ps.stem(w))"
   ]
  },
  {
   "cell_type": "code",
   "execution_count": 72,
   "id": "94a400bb",
   "metadata": {},
   "outputs": [
    {
     "name": "stdout",
     "output_type": "stream",
     "text": [
      "studi\n",
      "studi\n",
      "studi\n",
      "studi\n"
     ]
    }
   ],
   "source": [
    "for w in word_list:\n",
    "    print(sbs.stem(w))"
   ]
  },
  {
   "cell_type": "code",
   "execution_count": 73,
   "id": "a8e0051e",
   "metadata": {},
   "outputs": [
    {
     "name": "stdout",
     "output_type": "stream",
     "text": [
      "leav\n",
      "leav\n",
      "histori\n",
      "histori\n",
      "die\n",
      "kernal\n",
      "social\n",
      "play\n",
      "play\n"
     ]
    }
   ],
   "source": [
    "for w in word_list1:\n",
    "    print(sbs.stem(w))"
   ]
  },
  {
   "cell_type": "code",
   "execution_count": 75,
   "id": "d92b6d41",
   "metadata": {},
   "outputs": [
    {
     "data": {
      "text/plain": [
       "('arabic',\n",
       " 'danish',\n",
       " 'dutch',\n",
       " 'english',\n",
       " 'finnish',\n",
       " 'french',\n",
       " 'german',\n",
       " 'hungarian',\n",
       " 'italian',\n",
       " 'norwegian',\n",
       " 'porter',\n",
       " 'portuguese',\n",
       " 'romanian',\n",
       " 'russian',\n",
       " 'spanish',\n",
       " 'swedish')"
      ]
     },
     "execution_count": 75,
     "metadata": {},
     "output_type": "execute_result"
    }
   ],
   "source": [
    "# It will supported by different languages\n",
    "sbs.languages"
   ]
  },
  {
   "cell_type": "code",
   "execution_count": 84,
   "id": "cc93b012",
   "metadata": {},
   "outputs": [
    {
     "name": "stderr",
     "output_type": "stream",
     "text": [
      "[nltk_data] Downloading package wordnet to /home/cdot/nltk_data...\n"
     ]
    },
    {
     "data": {
      "text/plain": [
       "True"
      ]
     },
     "execution_count": 84,
     "metadata": {},
     "output_type": "execute_result"
    }
   ],
   "source": [
    "nltk.download('wordnet')"
   ]
  },
  {
   "cell_type": "markdown",
   "id": "832d67e3",
   "metadata": {},
   "source": [
    "the default value of lemmatization is Noun(n)"
   ]
  },
  {
   "cell_type": "code",
   "execution_count": 85,
   "id": "f473d576",
   "metadata": {},
   "outputs": [
    {
     "name": "stdout",
     "output_type": "stream",
     "text": [
      "studying\n",
      "study\n",
      "study\n",
      "studied\n"
     ]
    }
   ],
   "source": [
    "for w in word_list:\n",
    "    print(wnl.lemmatize(w))"
   ]
  },
  {
   "cell_type": "code",
   "execution_count": 89,
   "id": "d9bd88a2",
   "metadata": {},
   "outputs": [
    {
     "name": "stdout",
     "output_type": "stream",
     "text": [
      "leave\n",
      "leave\n",
      "history\n",
      "histories\n",
      "die\n",
      "kernal\n",
      "social\n",
      "play\n",
      "play\n"
     ]
    }
   ],
   "source": [
    "for w in word_list1:\n",
    "    print(wnl.lemmatize(w, pos = 'v'))"
   ]
  },
  {
   "cell_type": "code",
   "execution_count": null,
   "id": "ed929360",
   "metadata": {},
   "outputs": [],
   "source": []
  }
 ],
 "metadata": {
  "kernelspec": {
   "display_name": "Python 3 (ipykernel)",
   "language": "python",
   "name": "python3"
  },
  "language_info": {
   "codemirror_mode": {
    "name": "ipython",
    "version": 3
   },
   "file_extension": ".py",
   "mimetype": "text/x-python",
   "name": "python",
   "nbconvert_exporter": "python",
   "pygments_lexer": "ipython3",
   "version": "3.10.6"
  }
 },
 "nbformat": 4,
 "nbformat_minor": 5
}
